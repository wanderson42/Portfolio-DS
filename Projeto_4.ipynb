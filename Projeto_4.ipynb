{
  "cells": [
    {
      "cell_type": "markdown",
      "metadata": {
        "id": "view-in-github",
        "colab_type": "text"
      },
      "source": [
        "<a href=\"https://colab.research.google.com/github/wanderson42/Portfolio-DS/blob/main/Projeto_4.ipynb\" target=\"_parent\"><img src=\"https://colab.research.google.com/assets/colab-badge.svg\" alt=\"Open In Colab\"/></a>"
      ]
    },
    {
      "cell_type": "markdown",
      "source": [
        "\n",
        "# **Data Science - Turing USP** \n",
        "\n",
        "# **Projeto de Portfólio Nº 4:** \n",
        "\n",
        "<span style='color:Gray'> Montagem de uma classificação usando Pipeline do Sklearn (KNN, Naive Bayes e Decision Tree).  </span>\n",
        "\n",
        "Predizendo a inadimplência de clientes: German Credit dataset\n",
        "\n",
        "\n",
        "Autor: Wanderson Ferreira"
      ],
      "metadata": {
        "id": "EzRsQiGMzrG7"
      }
    },
    {
      "cell_type": "markdown",
      "metadata": {
        "id": "1LnYHlvk-Ypy"
      },
      "source": [
        "## **1. Introdução: Informações sobre o Dataset**\n",
        "\n",
        "</div>\n",
        "<left><img src=\"https://raw.githubusercontent.com/wanderson42/portfolio-data/main/credit_risk.jpg\" width=\"900\"/> <center>\n",
        "</div>\n",
        "\n",
        "<p><center>Imagem meramente ilustrativa</center></p>\n"
      ]
    },
    {
      "cell_type": "markdown",
      "source": [
        "O presente dataset é constituido por uma serie de atributos sociodemográficos que descrevem o perfil individual de uma carteira de 1000 clientes residentes na Alemanha que tiveram uma carta de crédito aprovada para financiar a compra de um determinado bem de consumo. O dataset original contém 20 atributos numéricos/categóricos. Nesse caso, foi utilizado uma versão simplificada do dataset contendo 10 atributos. O link para o dataset original pode ser encontrado abaixo.\n",
        "\n",
        "**Fonte do dataset:** https://archive.ics.uci.edu/ml/datasets/statlog+(german+credit+data)\n",
        "\n",
        "Cada instância do dataset (linha) representa uma pessoa que recebeu uma carta de crédito. Dentre todos os atributos do dataset (colunas) temos o atributo `risk` de natureza binária, que classifica se o cliente é um bom ou mau pagador das prestações. \n",
        "\n",
        "**Descrição do dataset:**\n",
        "\n",
        "> - **age:** Idade do cliente;\n",
        ">\n",
        "> - **sex:** Male ou Female;\n",
        ">\n",
        "> - **job:** Tipo de emprego do cliente: unskilled and non-resident, unskilled and resident, skilled, highly skilled;\n",
        ">\n",
        "> - **housing:** Tipo de moradia: own, rent, free;\n",
        ">\n",
        "> - **saving_accounts:** \"Tamanho\" da conta poupança:  little, moderate, quite rich, rich;\n",
        ">\n",
        "> - **checking_account:** \"Tamanho\" da conta corrente:  little, moderate, rich;\n",
        "> - **credit_amount:** Valor da carta de crédito fornecida para o cliente;\n",
        ">\n",
        "> - **duration:** Tempo previsto para quitação da divida (em meses);\n",
        ">\n",
        "> - **purpose:** Finalidade do crédito: car, furniture/equipment, radio/TV, domestic appliances, repairs, education, business, vacation/others;\n",
        "própria (sim/não);\n",
        ">\n",
        "> - **risk:** Bom ou mal pagador.\n",
        "\n",
        "Com base na lista de atributos acima, o objetivo geral deste presente projeto de portfólio é a construção de um modelo preditivo de classificação, via Pipeline do Sklearn, que auxilie a gerência de um banco na tomada de decisão em aprovar ou não a concessão de uma carta de crédito, identicando potenciais clientes bons pagadores, com base nos seus respectivos perfis, e com isto, minimizar os riscos de inadimplência.\n",
        "\n",
        "As seguintes abordagens foram levadas em conta para desenvolver a classificação binaria:\n",
        "\n",
        "> - **Regressão Logistica**\n",
        ">\n",
        "> - **K-Nearest Neighbor**\n",
        ">\n",
        "> - **Naive Bayes** \n",
        "\n",
        "## **2. Importando Bibliotecas de Ciência de Dados**"
      ],
      "metadata": {
        "id": "1eMcP1AxApyG"
      }
    },
    {
      "cell_type": "code",
      "source": [
        "%%capture\n",
        "! pip install category_encoders\n",
        "import pandas as pd\n",
        "import numpy as np\n",
        "import matplotlib.pyplot as plt \n",
        "import matplotlib.gridspec as gridspec\n",
        "import matplotlib.style as style\n",
        "import seaborn as sns\n",
        "from scipy import stats\n",
        "\n",
        "from sklearn.preprocessing import LabelEncoder, OneHotEncoder, MinMaxScaler, RobustScaler\n",
        "from sklearn.impute import SimpleImputer \n",
        "from sklearn.compose import ColumnTransformer, make_column_transformer\n",
        "from sklearn.model_selection import train_test_split, cross_val_predict, cross_val_score, KFold, GridSearchCV\n",
        "from sklearn.pipeline import Pipeline\n",
        "from sklearn import set_config\n",
        "from sklearn import metrics\n",
        "from sklearn.metrics import make_scorer, accuracy_score, recall_score, precision_score, fbeta_score\n",
        "\n",
        "\n",
        "from sklearn.neighbors import KNeighborsClassifier\n",
        "from sklearn.tree import DecisionTreeClassifier\n",
        "from sklearn.naive_bayes import BernoulliNB\n",
        "\n",
        "import warnings\n",
        "warnings.simplefilter(action=\"ignore\", category=FutureWarning)"
      ],
      "metadata": {
        "id": "JKNV8WegCoaD"
      },
      "execution_count": null,
      "outputs": []
    },
    {
      "cell_type": "markdown",
      "source": [
        "## **3. Carregando o dataset**\n",
        "\n"
      ],
      "metadata": {
        "id": "DUbRQCWvCyXq"
      }
    },
    {
      "cell_type": "code",
      "source": [
        "#Dataset\n",
        "url = 'https://raw.githubusercontent.com/wanderson42/Portfolio-DS/main/datasets/german_credit_data.csv'\n",
        "df = pd.read_csv(url, index_col=0)"
      ],
      "metadata": {
        "id": "HpggYRFMT7Cw"
      },
      "execution_count": null,
      "outputs": []
    },
    {
      "cell_type": "markdown",
      "source": [
        " Como parte da investigação inicial, segue abaixo uma ánalise explotória dos dados (EDA - Exploratory Data Analysis), para melhor definirmos a estrutura do Pipeline e consequentemente a obtenção de um bom modelo de classificação.\n",
        "\n",
        "## **4. Exploratory Data Analysis (EDA): Uma inspeção dos nossos dados**\n",
        "\n",
        "**4.1 Noção geral da estrutura do dataset**"
      ],
      "metadata": {
        "id": "5z5l0aUwEE9M"
      }
    },
    {
      "cell_type": "code",
      "source": [
        "#Primeiras impressões sobre o dataframe\n",
        "display(df.sample(n = 8).style.background_gradient(cmap = 'Set3')); print(); display(df.info())"
      ],
      "metadata": {
        "id": "aofSB9ItG4Ge",
        "colab": {
          "base_uri": "https://localhost:8080/",
          "height": 647
        },
        "outputId": "8140df9e-5ff0-4cd7-b124-8426c515a971"
      },
      "execution_count": null,
      "outputs": [
        {
          "output_type": "display_data",
          "data": {
            "text/plain": [
              "<pandas.io.formats.style.Styler at 0x7f9004c697d0>"
            ],
            "text/html": [
              "<style type=\"text/css\">\n",
              "#T_56824_row0_col0, #T_56824_row2_col0, #T_56824_row5_col6, #T_56824_row5_col7 {\n",
              "  background-color: #ffed6f;\n",
              "  color: #000000;\n",
              "}\n",
              "#T_56824_row0_col6, #T_56824_row1_col6, #T_56824_row1_col7, #T_56824_row2_col6, #T_56824_row3_col0, #T_56824_row3_col6, #T_56824_row3_col7, #T_56824_row4_col7, #T_56824_row5_col0, #T_56824_row6_col6, #T_56824_row7_col0 {\n",
              "  background-color: #8dd3c7;\n",
              "  color: #000000;\n",
              "}\n",
              "#T_56824_row0_col7, #T_56824_row1_col0, #T_56824_row6_col0, #T_56824_row6_col7 {\n",
              "  background-color: #fb8072;\n",
              "  color: #f1f1f1;\n",
              "}\n",
              "#T_56824_row2_col7, #T_56824_row7_col7 {\n",
              "  background-color: #fdb462;\n",
              "  color: #000000;\n",
              "}\n",
              "#T_56824_row4_col0 {\n",
              "  background-color: #b3de69;\n",
              "  color: #000000;\n",
              "}\n",
              "#T_56824_row4_col6, #T_56824_row7_col6 {\n",
              "  background-color: #ffffb3;\n",
              "  color: #000000;\n",
              "}\n",
              "</style>\n",
              "<table id=\"T_56824_\" class=\"dataframe\">\n",
              "  <thead>\n",
              "    <tr>\n",
              "      <th class=\"blank level0\" >&nbsp;</th>\n",
              "      <th class=\"col_heading level0 col0\" >age</th>\n",
              "      <th class=\"col_heading level0 col1\" >sex</th>\n",
              "      <th class=\"col_heading level0 col2\" >job</th>\n",
              "      <th class=\"col_heading level0 col3\" >housing</th>\n",
              "      <th class=\"col_heading level0 col4\" >saving_accounts</th>\n",
              "      <th class=\"col_heading level0 col5\" >checking_account</th>\n",
              "      <th class=\"col_heading level0 col6\" >credit_amount</th>\n",
              "      <th class=\"col_heading level0 col7\" >duration</th>\n",
              "      <th class=\"col_heading level0 col8\" >purpose</th>\n",
              "      <th class=\"col_heading level0 col9\" >risk</th>\n",
              "    </tr>\n",
              "  </thead>\n",
              "  <tbody>\n",
              "    <tr>\n",
              "      <th id=\"T_56824_level0_row0\" class=\"row_heading level0 row0\" >149</th>\n",
              "      <td id=\"T_56824_row0_col0\" class=\"data row0 col0\" >46</td>\n",
              "      <td id=\"T_56824_row0_col1\" class=\"data row0 col1\" >male</td>\n",
              "      <td id=\"T_56824_row0_col2\" class=\"data row0 col2\" >skilled</td>\n",
              "      <td id=\"T_56824_row0_col3\" class=\"data row0 col3\" >own</td>\n",
              "      <td id=\"T_56824_row0_col4\" class=\"data row0 col4\" >rich</td>\n",
              "      <td id=\"T_56824_row0_col5\" class=\"data row0 col5\" >nan</td>\n",
              "      <td id=\"T_56824_row0_col6\" class=\"data row0 col6\" >1582</td>\n",
              "      <td id=\"T_56824_row0_col7\" class=\"data row0 col7\" >18</td>\n",
              "      <td id=\"T_56824_row0_col8\" class=\"data row0 col8\" >radio/TV</td>\n",
              "      <td id=\"T_56824_row0_col9\" class=\"data row0 col9\" >good</td>\n",
              "    </tr>\n",
              "    <tr>\n",
              "      <th id=\"T_56824_level0_row1\" class=\"row_heading level0 row1\" >314</th>\n",
              "      <td id=\"T_56824_row1_col0\" class=\"data row1 col0\" >29</td>\n",
              "      <td id=\"T_56824_row1_col1\" class=\"data row1 col1\" >male</td>\n",
              "      <td id=\"T_56824_row1_col2\" class=\"data row1 col2\" >unskilled_&_resident</td>\n",
              "      <td id=\"T_56824_row1_col3\" class=\"data row1 col3\" >own</td>\n",
              "      <td id=\"T_56824_row1_col4\" class=\"data row1 col4\" >nan</td>\n",
              "      <td id=\"T_56824_row1_col5\" class=\"data row1 col5\" >rich</td>\n",
              "      <td id=\"T_56824_row1_col6\" class=\"data row1 col6\" >1494</td>\n",
              "      <td id=\"T_56824_row1_col7\" class=\"data row1 col7\" >4</td>\n",
              "      <td id=\"T_56824_row1_col8\" class=\"data row1 col8\" >car</td>\n",
              "      <td id=\"T_56824_row1_col9\" class=\"data row1 col9\" >good</td>\n",
              "    </tr>\n",
              "    <tr>\n",
              "      <th id=\"T_56824_level0_row2\" class=\"row_heading level0 row2\" >702</th>\n",
              "      <td id=\"T_56824_row2_col0\" class=\"data row2 col0\" >47</td>\n",
              "      <td id=\"T_56824_row2_col1\" class=\"data row2 col1\" >female</td>\n",
              "      <td id=\"T_56824_row2_col2\" class=\"data row2 col2\" >skilled</td>\n",
              "      <td id=\"T_56824_row2_col3\" class=\"data row2 col3\" >free</td>\n",
              "      <td id=\"T_56824_row2_col4\" class=\"data row2 col4\" >moderate</td>\n",
              "      <td id=\"T_56824_row2_col5\" class=\"data row2 col5\" >rich</td>\n",
              "      <td id=\"T_56824_row2_col6\" class=\"data row2 col6\" >1377</td>\n",
              "      <td id=\"T_56824_row2_col7\" class=\"data row2 col7\" >24</td>\n",
              "      <td id=\"T_56824_row2_col8\" class=\"data row2 col8\" >radio/TV</td>\n",
              "      <td id=\"T_56824_row2_col9\" class=\"data row2 col9\" >good</td>\n",
              "    </tr>\n",
              "    <tr>\n",
              "      <th id=\"T_56824_level0_row3\" class=\"row_heading level0 row3\" >47</th>\n",
              "      <td id=\"T_56824_row3_col0\" class=\"data row3 col0\" >23</td>\n",
              "      <td id=\"T_56824_row3_col1\" class=\"data row3 col1\" >female</td>\n",
              "      <td id=\"T_56824_row3_col2\" class=\"data row3 col2\" >unskilled_&_non-resident</td>\n",
              "      <td id=\"T_56824_row3_col3\" class=\"data row3 col3\" >rent</td>\n",
              "      <td id=\"T_56824_row3_col4\" class=\"data row3 col4\" >quite rich</td>\n",
              "      <td id=\"T_56824_row3_col5\" class=\"data row3 col5\" >little</td>\n",
              "      <td id=\"T_56824_row3_col6\" class=\"data row3 col6\" >1352</td>\n",
              "      <td id=\"T_56824_row3_col7\" class=\"data row3 col7\" >6</td>\n",
              "      <td id=\"T_56824_row3_col8\" class=\"data row3 col8\" >car</td>\n",
              "      <td id=\"T_56824_row3_col9\" class=\"data row3 col9\" >good</td>\n",
              "    </tr>\n",
              "    <tr>\n",
              "      <th id=\"T_56824_level0_row4\" class=\"row_heading level0 row4\" >447</th>\n",
              "      <td id=\"T_56824_row4_col0\" class=\"data row4 col0\" >35</td>\n",
              "      <td id=\"T_56824_row4_col1\" class=\"data row4 col1\" >male</td>\n",
              "      <td id=\"T_56824_row4_col2\" class=\"data row4 col2\" >skilled</td>\n",
              "      <td id=\"T_56824_row4_col3\" class=\"data row4 col3\" >own</td>\n",
              "      <td id=\"T_56824_row4_col4\" class=\"data row4 col4\" >little</td>\n",
              "      <td id=\"T_56824_row4_col5\" class=\"data row4 col5\" >moderate</td>\n",
              "      <td id=\"T_56824_row4_col6\" class=\"data row4 col6\" >2576</td>\n",
              "      <td id=\"T_56824_row4_col7\" class=\"data row4 col7\" >7</td>\n",
              "      <td id=\"T_56824_row4_col8\" class=\"data row4 col8\" >radio/TV</td>\n",
              "      <td id=\"T_56824_row4_col9\" class=\"data row4 col9\" >good</td>\n",
              "    </tr>\n",
              "    <tr>\n",
              "      <th id=\"T_56824_level0_row5\" class=\"row_heading level0 row5\" >887</th>\n",
              "      <td id=\"T_56824_row5_col0\" class=\"data row5 col0\" >23</td>\n",
              "      <td id=\"T_56824_row5_col1\" class=\"data row5 col1\" >male</td>\n",
              "      <td id=\"T_56824_row5_col2\" class=\"data row5 col2\" >skilled</td>\n",
              "      <td id=\"T_56824_row5_col3\" class=\"data row5 col3\" >own</td>\n",
              "      <td id=\"T_56824_row5_col4\" class=\"data row5 col4\" >little</td>\n",
              "      <td id=\"T_56824_row5_col5\" class=\"data row5 col5\" >moderate</td>\n",
              "      <td id=\"T_56824_row5_col6\" class=\"data row5 col6\" >15672</td>\n",
              "      <td id=\"T_56824_row5_col7\" class=\"data row5 col7\" >48</td>\n",
              "      <td id=\"T_56824_row5_col8\" class=\"data row5 col8\" >business</td>\n",
              "      <td id=\"T_56824_row5_col9\" class=\"data row5 col9\" >bad</td>\n",
              "    </tr>\n",
              "    <tr>\n",
              "      <th id=\"T_56824_level0_row6\" class=\"row_heading level0 row6\" >161</th>\n",
              "      <td id=\"T_56824_row6_col0\" class=\"data row6 col0\" >30</td>\n",
              "      <td id=\"T_56824_row6_col1\" class=\"data row6 col1\" >female</td>\n",
              "      <td id=\"T_56824_row6_col2\" class=\"data row6 col2\" >skilled</td>\n",
              "      <td id=\"T_56824_row6_col3\" class=\"data row6 col3\" >own</td>\n",
              "      <td id=\"T_56824_row6_col4\" class=\"data row6 col4\" >little</td>\n",
              "      <td id=\"T_56824_row6_col5\" class=\"data row6 col5\" >nan</td>\n",
              "      <td id=\"T_56824_row6_col6\" class=\"data row6 col6\" >1055</td>\n",
              "      <td id=\"T_56824_row6_col7\" class=\"data row6 col7\" >18</td>\n",
              "      <td id=\"T_56824_row6_col8\" class=\"data row6 col8\" >car</td>\n",
              "      <td id=\"T_56824_row6_col9\" class=\"data row6 col9\" >good</td>\n",
              "    </tr>\n",
              "    <tr>\n",
              "      <th id=\"T_56824_level0_row7\" class=\"row_heading level0 row7\" >743</th>\n",
              "      <td id=\"T_56824_row7_col0\" class=\"data row7 col0\" >22</td>\n",
              "      <td id=\"T_56824_row7_col1\" class=\"data row7 col1\" >male</td>\n",
              "      <td id=\"T_56824_row7_col2\" class=\"data row7 col2\" >skilled</td>\n",
              "      <td id=\"T_56824_row7_col3\" class=\"data row7 col3\" >own</td>\n",
              "      <td id=\"T_56824_row7_col4\" class=\"data row7 col4\" >quite rich</td>\n",
              "      <td id=\"T_56824_row7_col5\" class=\"data row7 col5\" >little</td>\n",
              "      <td id=\"T_56824_row7_col6\" class=\"data row7 col6\" >2483</td>\n",
              "      <td id=\"T_56824_row7_col7\" class=\"data row7 col7\" >24</td>\n",
              "      <td id=\"T_56824_row7_col8\" class=\"data row7 col8\" >furniture/equipment</td>\n",
              "      <td id=\"T_56824_row7_col9\" class=\"data row7 col9\" >good</td>\n",
              "    </tr>\n",
              "  </tbody>\n",
              "</table>\n"
            ]
          },
          "metadata": {}
        },
        {
          "output_type": "stream",
          "name": "stdout",
          "text": [
            "\n",
            "<class 'pandas.core.frame.DataFrame'>\n",
            "Int64Index: 1000 entries, 0 to 999\n",
            "Data columns (total 10 columns):\n",
            " #   Column            Non-Null Count  Dtype \n",
            "---  ------            --------------  ----- \n",
            " 0   age               1000 non-null   int64 \n",
            " 1   sex               1000 non-null   object\n",
            " 2   job               1000 non-null   object\n",
            " 3   housing           1000 non-null   object\n",
            " 4   saving_accounts   817 non-null    object\n",
            " 5   checking_account  606 non-null    object\n",
            " 6   credit_amount     1000 non-null   int64 \n",
            " 7   duration          1000 non-null   int64 \n",
            " 8   purpose           1000 non-null   object\n",
            " 9   risk              1000 non-null   object\n",
            "dtypes: int64(3), object(7)\n",
            "memory usage: 85.9+ KB\n"
          ]
        },
        {
          "output_type": "display_data",
          "data": {
            "text/plain": [
              "None"
            ]
          },
          "metadata": {}
        }
      ]
    },
    {
      "cell_type": "markdown",
      "source": [
        "> - Dentre as 10 features do dataset, um total de 3 features são do tipo int64 e 7 features são do tipo objeto;\n",
        ">\n",
        "> - As features `saving_accounts` e `checking_account` são as duas únicas que apresentam valores ausentes."
      ],
      "metadata": {
        "id": "znCWsomxc6Bv"
      }
    },
    {
      "cell_type": "markdown",
      "source": [
        "**4.2 Inspecionando valores ausentes (NaN)**"
      ],
      "metadata": {
        "id": "A-2Ior8qFPR5"
      }
    },
    {
      "cell_type": "code",
      "source": [
        "def f1():\n",
        "  # Calculando o valor total de Nan values no dataset de treino\n",
        "  df_total_nan = df.isnull().sum()\n",
        "  df_percent_nan = ((df.isnull().sum()/df.shape[0])*100)\n",
        "  # Construindo uma tabela de missing values \n",
        "  table_missing_data = pd.concat([df_total_nan,df_percent_nan], axis=1, keys=['NaN', 'NaN(%)'], sort = True)\n",
        "  # Somando todos os missing values de ambas as colunas\n",
        "  a = table_missing_data['NaN'].sum(); b = a*100/(df.shape[0])\n",
        "  # Adicionando uma linha contento os valores totais\n",
        "  row = pd.Series({'NaN':a,'NaN(%)':b},name='Total')\n",
        "  table_missing_data = table_missing_data.append(row)\n",
        "  table_missing_data = table_missing_data.astype(int)\n",
        "  return display(table_missing_data.style.bar(color = 'salmon'))\n",
        "\n",
        "f1()"
      ],
      "metadata": {
        "id": "7WiN4wKtFWyS",
        "colab": {
          "base_uri": "https://localhost:8080/",
          "height": 394
        },
        "outputId": "bc00c2fb-e631-4fd7-d409-3a505ee98f92"
      },
      "execution_count": null,
      "outputs": [
        {
          "output_type": "display_data",
          "data": {
            "text/plain": [
              "<pandas.io.formats.style.Styler at 0x7f901cd86890>"
            ],
            "text/html": [
              "<style type=\"text/css\">\n",
              "#T_87b80_row0_col0, #T_87b80_row0_col1, #T_87b80_row2_col0, #T_87b80_row2_col1, #T_87b80_row3_col0, #T_87b80_row3_col1, #T_87b80_row4_col0, #T_87b80_row4_col1, #T_87b80_row5_col0, #T_87b80_row5_col1, #T_87b80_row6_col0, #T_87b80_row6_col1, #T_87b80_row7_col0, #T_87b80_row7_col1, #T_87b80_row9_col0, #T_87b80_row9_col1 {\n",
              "  width: 10em;\n",
              "  height: 80%;\n",
              "}\n",
              "#T_87b80_row1_col0 {\n",
              "  width: 10em;\n",
              "  height: 80%;\n",
              "  background: linear-gradient(90deg,salmon 68.3%, transparent 68.3%);\n",
              "}\n",
              "#T_87b80_row1_col1 {\n",
              "  width: 10em;\n",
              "  height: 80%;\n",
              "  background: linear-gradient(90deg,salmon 68.4%, transparent 68.4%);\n",
              "}\n",
              "#T_87b80_row8_col0 {\n",
              "  width: 10em;\n",
              "  height: 80%;\n",
              "  background: linear-gradient(90deg,salmon 31.7%, transparent 31.7%);\n",
              "}\n",
              "#T_87b80_row8_col1 {\n",
              "  width: 10em;\n",
              "  height: 80%;\n",
              "  background: linear-gradient(90deg,salmon 31.6%, transparent 31.6%);\n",
              "}\n",
              "#T_87b80_row10_col0, #T_87b80_row10_col1 {\n",
              "  width: 10em;\n",
              "  height: 80%;\n",
              "  background: linear-gradient(90deg,salmon 100.0%, transparent 100.0%);\n",
              "}\n",
              "</style>\n",
              "<table id=\"T_87b80_\" class=\"dataframe\">\n",
              "  <thead>\n",
              "    <tr>\n",
              "      <th class=\"blank level0\" >&nbsp;</th>\n",
              "      <th class=\"col_heading level0 col0\" >NaN</th>\n",
              "      <th class=\"col_heading level0 col1\" >NaN(%)</th>\n",
              "    </tr>\n",
              "  </thead>\n",
              "  <tbody>\n",
              "    <tr>\n",
              "      <th id=\"T_87b80_level0_row0\" class=\"row_heading level0 row0\" >age</th>\n",
              "      <td id=\"T_87b80_row0_col0\" class=\"data row0 col0\" >0</td>\n",
              "      <td id=\"T_87b80_row0_col1\" class=\"data row0 col1\" >0</td>\n",
              "    </tr>\n",
              "    <tr>\n",
              "      <th id=\"T_87b80_level0_row1\" class=\"row_heading level0 row1\" >checking_account</th>\n",
              "      <td id=\"T_87b80_row1_col0\" class=\"data row1 col0\" >394</td>\n",
              "      <td id=\"T_87b80_row1_col1\" class=\"data row1 col1\" >39</td>\n",
              "    </tr>\n",
              "    <tr>\n",
              "      <th id=\"T_87b80_level0_row2\" class=\"row_heading level0 row2\" >credit_amount</th>\n",
              "      <td id=\"T_87b80_row2_col0\" class=\"data row2 col0\" >0</td>\n",
              "      <td id=\"T_87b80_row2_col1\" class=\"data row2 col1\" >0</td>\n",
              "    </tr>\n",
              "    <tr>\n",
              "      <th id=\"T_87b80_level0_row3\" class=\"row_heading level0 row3\" >duration</th>\n",
              "      <td id=\"T_87b80_row3_col0\" class=\"data row3 col0\" >0</td>\n",
              "      <td id=\"T_87b80_row3_col1\" class=\"data row3 col1\" >0</td>\n",
              "    </tr>\n",
              "    <tr>\n",
              "      <th id=\"T_87b80_level0_row4\" class=\"row_heading level0 row4\" >housing</th>\n",
              "      <td id=\"T_87b80_row4_col0\" class=\"data row4 col0\" >0</td>\n",
              "      <td id=\"T_87b80_row4_col1\" class=\"data row4 col1\" >0</td>\n",
              "    </tr>\n",
              "    <tr>\n",
              "      <th id=\"T_87b80_level0_row5\" class=\"row_heading level0 row5\" >job</th>\n",
              "      <td id=\"T_87b80_row5_col0\" class=\"data row5 col0\" >0</td>\n",
              "      <td id=\"T_87b80_row5_col1\" class=\"data row5 col1\" >0</td>\n",
              "    </tr>\n",
              "    <tr>\n",
              "      <th id=\"T_87b80_level0_row6\" class=\"row_heading level0 row6\" >purpose</th>\n",
              "      <td id=\"T_87b80_row6_col0\" class=\"data row6 col0\" >0</td>\n",
              "      <td id=\"T_87b80_row6_col1\" class=\"data row6 col1\" >0</td>\n",
              "    </tr>\n",
              "    <tr>\n",
              "      <th id=\"T_87b80_level0_row7\" class=\"row_heading level0 row7\" >risk</th>\n",
              "      <td id=\"T_87b80_row7_col0\" class=\"data row7 col0\" >0</td>\n",
              "      <td id=\"T_87b80_row7_col1\" class=\"data row7 col1\" >0</td>\n",
              "    </tr>\n",
              "    <tr>\n",
              "      <th id=\"T_87b80_level0_row8\" class=\"row_heading level0 row8\" >saving_accounts</th>\n",
              "      <td id=\"T_87b80_row8_col0\" class=\"data row8 col0\" >183</td>\n",
              "      <td id=\"T_87b80_row8_col1\" class=\"data row8 col1\" >18</td>\n",
              "    </tr>\n",
              "    <tr>\n",
              "      <th id=\"T_87b80_level0_row9\" class=\"row_heading level0 row9\" >sex</th>\n",
              "      <td id=\"T_87b80_row9_col0\" class=\"data row9 col0\" >0</td>\n",
              "      <td id=\"T_87b80_row9_col1\" class=\"data row9 col1\" >0</td>\n",
              "    </tr>\n",
              "    <tr>\n",
              "      <th id=\"T_87b80_level0_row10\" class=\"row_heading level0 row10\" >Total</th>\n",
              "      <td id=\"T_87b80_row10_col0\" class=\"data row10 col0\" >577</td>\n",
              "      <td id=\"T_87b80_row10_col1\" class=\"data row10 col1\" >57</td>\n",
              "    </tr>\n",
              "  </tbody>\n",
              "</table>\n"
            ]
          },
          "metadata": {}
        }
      ]
    },
    {
      "cell_type": "markdown",
      "source": [
        "> -  A feature `checking_account` possui 394 (39%) valores ausentes;\n",
        ">\n",
        "> - A feature `saving_accounts` possui 183 (18%) valores ausentes.\n",
        ">\n",
        "> - O dataset totaliza 577 (57%) instâncias contendo algum valor ausente;\n",
        "\n",
        "Prosseguindo com a EDA, agora seguimos com uma análise estatística mulvariada: \n",
        "\n",
        "**4.3 Analise estatistica multivariada das features numéricas**\n"
      ],
      "metadata": {
        "id": "wybT7GGMRiiB"
      }
    },
    {
      "cell_type": "code",
      "source": [
        "plt.figure(figsize=(20, 18))\n",
        "\n",
        "plt.subplot(331)\n",
        "ax1 = sns.histplot(data = df, x = 'age', hue=\"risk\", palette='tab10', multiple='stack', kde=True)\n",
        "\n",
        "plt.subplot(332)\n",
        "ax2 = sns.histplot(data = df, x = 'credit_amount', hue=\"risk\", palette='tab10', multiple='stack', kde=True)\n",
        "\n",
        "plt.subplot(333)\n",
        "ax3 = sns.histplot(data = df, x = 'duration', hue=\"risk\", palette= 'tab10', multiple='stack', kde=True)\n",
        "\n",
        "plt.rcParams.update({'font.size': 16})\n",
        "plt.xticks(fontsize=12)\n",
        "plt.subplots_adjust(wspace=0.25)\n",
        "plt.show()"
      ],
      "metadata": {
        "id": "2mmS9pktSxba",
        "colab": {
          "base_uri": "https://localhost:8080/",
          "height": 339
        },
        "outputId": "e517c717-9298-4df5-b7cc-51f5d8c77529"
      },
      "execution_count": null,
      "outputs": [
        {
          "output_type": "display_data",
          "data": {
            "text/plain": [
              "<Figure size 1440x1296 with 3 Axes>"
            ],
            "image/png": "[encoded data removed]"
          },
          "metadata": {
            "needs_background": "light"
          }
        }
      ]
    },
    {
      "cell_type": "markdown",
      "source": [
        "Conforme a distribuição de dados nos histogramas acima, pode-se destacar, que:\n",
        "\n",
        "> - Os clientes com idade (`age`) entre 25 e 45 anos são mais propensos a solicitar uma carta de crédito. E proporcionalmente a maior parte dos inadimplentes corresponde a essa faixa etária;\n",
        "> \n",
        "> - A maioria dos clientes são menos propensos a solicitar uma carta de crédito com valor muito alto (`credit_amount`). E esses emprestimos com valores girando em torno de até 4000 são os que proporcionalmente tem o menor risco de inadimplência;\n",
        "> \n",
        "> - Clientes com o prazo de quitação da carta de crédito em até 24 meses (`duration`), proporcionalmente oferecem menos risco de inadimplência.\n",
        "\n",
        "\n",
        "**4.4 Analise estatistica multivariada de features categóricas:**\n"
      ],
      "metadata": {
        "id": "xr4CVajIxGMl"
      }
    },
    {
      "cell_type": "code",
      "source": [
        "plt.figure(figsize=(20, 18))\n",
        "\n",
        "plt.subplot(331)\n",
        "ax1 = sns.countplot(data = df, x = 'sex', hue=\"risk\", palette='tab10')\n",
        "\n",
        "plt.subplot(332)\n",
        "ax2 =  sns.countplot(data = df, x = 'checking_account', hue=\"risk\", palette='tab10')\n",
        "\n",
        "plt.subplot(333)\n",
        "ax3 = sns.countplot(data = df, x = 'saving_accounts', hue=\"risk\", palette= 'tab10')\n",
        "\n",
        "plt.subplot(334)\n",
        "ax4 = sns.countplot(data = df, x = 'housing', hue=\"risk\", palette= 'tab10')\n",
        "\n",
        "plt.subplot(335)\n",
        "ax5 = sns.countplot(data = df, x = 'purpose', hue=\"risk\", palette= 'tab10')\n",
        "plt.xticks(rotation = 70)\n",
        "\n",
        "plt.subplot(336)\n",
        "ax6 = sns.countplot(data = df, x = 'job', hue=\"risk\", palette= 'tab10')\n",
        "plt.xticks(rotation = 70)\n",
        "\n",
        "plt.subplots_adjust(wspace=0.25, hspace=0.25)\n",
        "plt.show()"
      ],
      "metadata": {
        "id": "KQs3K0gij0ZU",
        "colab": {
          "base_uri": "https://localhost:8080/",
          "height": 834
        },
        "outputId": "edfbd9d3-087e-4703-b1f7-0bbc37fbf511"
      },
      "execution_count": null,
      "outputs": [
        {
          "output_type": "display_data",
          "data": {
            "text/plain": [
              "<Figure size 1440x1296 with 6 Axes>"
            ],
            "image/png": "[encoded data removed]"
          },
          "metadata": {
            "needs_background": "light"
          }
        }
      ]
    },
    {
      "cell_type": "markdown",
      "source": [
        "Analisando os gráficos dispostos acima, observa-se que: \n",
        "\n",
        "> - O número de clientes do gênero feminino (female) é proporcionalmente 1/3 do gênero masculino (male). E elas, são menos propensas a inadimplência.;\n",
        ">\n",
        "> - A distribuição majoritaria de clientes corresponde a um status de conta corrente equivalente a individuos de baixa renda (`little`) ou renda média (`moderate`), cujo os primeiros, oferencem maior risco de inadimplência. \n",
        ">\n",
        "> - O hábito de poupar dinheiro não é uma prática difundida entre os clientes, cuja a grande maioria possui status de conta poupança equivalente a baixa renda. E como já esperado, os menos abastados tendem a inadimplência;\n",
        ">\n",
        "> - Cerca de 2/3 dos clientes possui casa própria. E 1/3 dos clientes que não possuem casa própria tendem a não ser bons pagadores;\n",
        ">\n",
        "> - O motivo mais apontado pelos clientes em solicitar uma carta de crédito é a aquisição de um carro, seguido por rádio/tv e imóvel. E da mesma forma, essas três categorias, apresentam os maiores indicativos de inadimplência. No entanto, proporcionalmente, os clientes tendem a serem mais inadimplentes ao solicitarem empréstimo para educação (`education`), empreendedorismo (`business`) e férias (`vacation`);\n",
        ">\n",
        "> - A maioria dos inadimplentes são cidadãos alemães cuja a força de trabalho é qualificada (`skilled`), seguidos pelos alemães cuja a mão de obra é não qualificada. Todavia, proporcionalmente, os clientes cuja mão de obra é altamente qualificada (`highly_skilled`), são mais sucetiveis a inadimplência. \n",
        "\n",
        "Usando apenas estatística descritiva, obteve-se informações valiosas que fomentam uma tomada de decisão aprimorada por parte da gerência do banco sobre como prosseguir com o solicitante da carta de crédito. Agora, construindo um modelo preditivo por meio do dataset, pode-se aprimorar ainda mais as chances de emitir bons empréstimos (ganho financeiro) e minimizar empréstimos ruins (perda financeira). "
      ],
      "metadata": {
        "id": "SIuSofEHgruc"
      }
    },
    {
      "cell_type": "markdown",
      "source": [
        "## **5. Feature Engineering & Construção do Modelo: Pipelines**\n",
        "\n",
        "Uma vez efetuada a EDA, vamos escrever o código que contempla o processo de feature engineering através de pipelines do scikit-learn.\n",
        "\n",
        "**5.1 Feature Engineering**\n"
      ],
      "metadata": {
        "id": "Ex0xRrAOTGfP"
      }
    },
    {
      "cell_type": "code",
      "source": [
        "# Dividindo os dados em conjunto de feature e target\n",
        "features  = df.drop(['risk'], axis=1)\n",
        "target = df['risk']\n",
        "\n",
        "numeric_features = ['age', 'credit_amount', 'duration']\n",
        "categorical_features = ['sex', 'job', 'housing', 'saving_accounts', 'checking_account', 'purpose']\n",
        "\n",
        "# Pipeline para pré-processamento das variáveis numéricas\n",
        "numeric_preprocessor = Pipeline(steps=[\n",
        "    ('robust', RobustScaler()),\n",
        "    ('scaler', MinMaxScaler())])\n",
        "\n",
        "# Pipeline para pré-processamento das variáveis categóricas\n",
        "categorical_preprocessor = Pipeline(steps=[\n",
        "    ('imputer', SimpleImputer(strategy='constant', fill_value='none')),\n",
        "    ('one_hot_enc', OneHotEncoder())])\n",
        "\n",
        "# Compondo os pré-processadores para formar o pipeline completo\n",
        "preprocessor = ColumnTransformer(transformers=[\n",
        "    ('num', numeric_preprocessor, numeric_features),\n",
        "    ('cat', categorical_preprocessor, categorical_features)])\n",
        "\n",
        "# Ajustando e Transformando os dados.\n",
        "X_features_data_prepared = preprocessor.fit_transform(features)\n",
        "y_target_data_prepared = LabelEncoder().fit_transform(target)\n",
        "\n",
        "# Visualizar pipeline \n",
        "set_config(display='diagram')\n",
        "display(preprocessor)"
      ],
      "metadata": {
        "id": "DeYCWC1yjA8n",
        "colab": {
          "base_uri": "https://localhost:8080/",
          "height": 152
        },
        "outputId": "8864fb38-8c91-4feb-b070-40af490d137b"
      },
      "execution_count": null,
      "outputs": [
        {
          "output_type": "display_data",
          "data": {
            "text/plain": [
              "ColumnTransformer(transformers=[('num',\n",
              "                                 Pipeline(steps=[('robust', RobustScaler()),\n",
              "                                                 ('scaler', MinMaxScaler())]),\n",
              "                                 ['age', 'credit_amount', 'duration']),\n",
              "                                ('cat',\n",
              "                                 Pipeline(steps=[('imputer',\n",
              "                                                  SimpleImputer(fill_value='none',\n",
              "                                                                strategy='constant')),\n",
              "                                                 ('one_hot_enc',\n",
              "                                                  OneHotEncoder())]),\n",
              "                                 ['sex', 'job', 'housing', 'saving_accounts',\n",
              "                                  'checking_account', 'purpose'])])"
            ],
            "text/html": [
              "<style>#sk-15f78238-8ffc-4ed7-93fa-1bb8a5c9fa17 {color: black;background-color: white;}#sk-15f78238-8ffc-4ed7-93fa-1bb8a5c9fa17 pre{padding: 0;}#sk-15f78238-8ffc-4ed7-93fa-1bb8a5c9fa17 div.sk-toggleable {background-color: white;}#sk-15f78238-8ffc-4ed7-93fa-1bb8a5c9fa17 label.sk-toggleable__label {cursor: pointer;display: block;width: 100%;margin-bottom: 0;padding: 0.3em;box-sizing: border-box;text-align: center;}#sk-15f78238-8ffc-4ed7-93fa-1bb8a5c9fa17 label.sk-toggleable__label-arrow:before {content: \"▸\";float: left;margin-right: 0.25em;color: #696969;}#sk-15f78238-8ffc-4ed7-93fa-1bb8a5c9fa17 label.sk-toggleable__label-arrow:hover:before {color: black;}#sk-15f78238-8ffc-4ed7-93fa-1bb8a5c9fa17 div.sk-estimator:hover label.sk-toggleable__label-arrow:before {color: black;}#sk-15f78238-8ffc-4ed7-93fa-1bb8a5c9fa17 div.sk-toggleable__content {max-height: 0;max-width: 0;overflow: hidden;text-align: left;background-color: #f0f8ff;}#sk-15f78238-8ffc-4ed7-93fa-1bb8a5c9fa17 div.sk-toggleable__content pre {margin: 0.2em;color: black;border-radius: 0.25em;background-color: #f0f8ff;}#sk-15f78238-8ffc-4ed7-93fa-1bb8a5c9fa17 input.sk-toggleable__control:checked~div.sk-toggleable__content {max-height: 200px;max-width: 100%;overflow: auto;}#sk-15f78238-8ffc-4ed7-93fa-1bb8a5c9fa17 input.sk-toggleable__control:checked~label.sk-toggleable__label-arrow:before {content: \"▾\";}#sk-15f78238-8ffc-4ed7-93fa-1bb8a5c9fa17 div.sk-estimator input.sk-toggleable__control:checked~label.sk-toggleable__label {background-color: #d4ebff;}#sk-15f78238-8ffc-4ed7-93fa-1bb8a5c9fa17 div.sk-label input.sk-toggleable__control:checked~label.sk-toggleable__label {background-color: #d4ebff;}#sk-15f78238-8ffc-4ed7-93fa-1bb8a5c9fa17 input.sk-hidden--visually {border: 0;clip: rect(1px 1px 1px 1px);clip: rect(1px, 1px, 1px, 1px);height: 1px;margin: -1px;overflow: hidden;padding: 0;position: absolute;width: 1px;}#sk-15f78238-8ffc-4ed7-93fa-1bb8a5c9fa17 div.sk-estimator {font-family: monospace;background-color: #f0f8ff;border: 1px dotted black;border-radius: 0.25em;box-sizing: border-box;margin-bottom: 0.5em;}#sk-15f78238-8ffc-4ed7-93fa-1bb8a5c9fa17 div.sk-estimator:hover {background-color: #d4ebff;}#sk-15f78238-8ffc-4ed7-93fa-1bb8a5c9fa17 div.sk-parallel-item::after {content: \"\";width: 100%;border-bottom: 1px solid gray;flex-grow: 1;}#sk-15f78238-8ffc-4ed7-93fa-1bb8a5c9fa17 div.sk-label:hover label.sk-toggleable__label {background-color: #d4ebff;}#sk-15f78238-8ffc-4ed7-93fa-1bb8a5c9fa17 div.sk-serial::before {content: \"\";position: absolute;border-left: 1px solid gray;box-sizing: border-box;top: 2em;bottom: 0;left: 50%;}#sk-15f78238-8ffc-4ed7-93fa-1bb8a5c9fa17 div.sk-serial {display: flex;flex-direction: column;align-items: center;background-color: white;padding-right: 0.2em;padding-left: 0.2em;}#sk-15f78238-8ffc-4ed7-93fa-1bb8a5c9fa17 div.sk-item {z-index: 1;}#sk-15f78238-8ffc-4ed7-93fa-1bb8a5c9fa17 div.sk-parallel {display: flex;align-items: stretch;justify-content: center;background-color: white;}#sk-15f78238-8ffc-4ed7-93fa-1bb8a5c9fa17 div.sk-parallel::before {content: \"\";position: absolute;border-left: 1px solid gray;box-sizing: border-box;top: 2em;bottom: 0;left: 50%;}#sk-15f78238-8ffc-4ed7-93fa-1bb8a5c9fa17 div.sk-parallel-item {display: flex;flex-direction: column;position: relative;background-color: white;}#sk-15f78238-8ffc-4ed7-93fa-1bb8a5c9fa17 div.sk-parallel-item:first-child::after {align-self: flex-end;width: 50%;}#sk-15f78238-8ffc-4ed7-93fa-1bb8a5c9fa17 div.sk-parallel-item:last-child::after {align-self: flex-start;width: 50%;}#sk-15f78238-8ffc-4ed7-93fa-1bb8a5c9fa17 div.sk-parallel-item:only-child::after {width: 0;}#sk-15f78238-8ffc-4ed7-93fa-1bb8a5c9fa17 div.sk-dashed-wrapped {border: 1px dashed gray;margin: 0 0.4em 0.5em 0.4em;box-sizing: border-box;padding-bottom: 0.4em;background-color: white;position: relative;}#sk-15f78238-8ffc-4ed7-93fa-1bb8a5c9fa17 div.sk-label label {font-family: monospace;font-weight: bold;background-color: white;display: inline-block;line-height: 1.2em;}#sk-15f78238-8ffc-4ed7-93fa-1bb8a5c9fa17 div.sk-label-container {position: relative;z-index: 2;text-align: center;}#sk-15f78238-8ffc-4ed7-93fa-1bb8a5c9fa17 div.sk-container {/* jupyter's `normalize.less` sets `[hidden] { display: none; }` but bootstrap.min.css set `[hidden] { display: none !important; }` so we also need the `!important` here to be able to override the default hidden behavior on the sphinx rendered scikit-learn.org. See: https://github.com/scikit-learn/scikit-learn/issues/21755 */display: inline-block !important;position: relative;}#sk-15f78238-8ffc-4ed7-93fa-1bb8a5c9fa17 div.sk-text-repr-fallback {display: none;}</style><div id=\"sk-15f78238-8ffc-4ed7-93fa-1bb8a5c9fa17\" class=\"sk-top-container\"><div class=\"sk-text-repr-fallback\"><pre>ColumnTransformer(transformers=[(&#x27;num&#x27;,\n",
              "                                 Pipeline(steps=[(&#x27;robust&#x27;, RobustScaler()),\n",
              "                                                 (&#x27;scaler&#x27;, MinMaxScaler())]),\n",
              "                                 [&#x27;age&#x27;, &#x27;credit_amount&#x27;, &#x27;duration&#x27;]),\n",
              "                                (&#x27;cat&#x27;,\n",
              "                                 Pipeline(steps=[(&#x27;imputer&#x27;,\n",
              "                                                  SimpleImputer(fill_value=&#x27;none&#x27;,\n",
              "                                                                strategy=&#x27;constant&#x27;)),\n",
              "                                                 (&#x27;one_hot_enc&#x27;,\n",
              "                                                  OneHotEncoder())]),\n",
              "                                 [&#x27;sex&#x27;, &#x27;job&#x27;, &#x27;housing&#x27;, &#x27;saving_accounts&#x27;,\n",
              "                                  &#x27;checking_account&#x27;, &#x27;purpose&#x27;])])</pre><b>Please rerun this cell to show the HTML repr or trust the notebook.</b></div><div class=\"sk-container\" hidden><div class=\"sk-item sk-dashed-wrapped\"><div class=\"sk-label-container\"><div class=\"sk-label sk-toggleable\"><input class=\"sk-toggleable__control sk-hidden--visually\" id=\"bfbfe595-953b-49e0-b3f0-29762592f65b\" type=\"checkbox\" ><label for=\"bfbfe595-953b-49e0-b3f0-29762592f65b\" class=\"sk-toggleable__label sk-toggleable__label-arrow\">ColumnTransformer</label><div class=\"sk-toggleable__content\"><pre>ColumnTransformer(transformers=[(&#x27;num&#x27;,\n",
              "                                 Pipeline(steps=[(&#x27;robust&#x27;, RobustScaler()),\n",
              "                                                 (&#x27;scaler&#x27;, MinMaxScaler())]),\n",
              "                                 [&#x27;age&#x27;, &#x27;credit_amount&#x27;, &#x27;duration&#x27;]),\n",
              "                                (&#x27;cat&#x27;,\n",
              "                                 Pipeline(steps=[(&#x27;imputer&#x27;,\n",
              "                                                  SimpleImputer(fill_value=&#x27;none&#x27;,\n",
              "                                                                strategy=&#x27;constant&#x27;)),\n",
              "                                                 (&#x27;one_hot_enc&#x27;,\n",
              "                                                  OneHotEncoder())]),\n",
              "                                 [&#x27;sex&#x27;, &#x27;job&#x27;, &#x27;housing&#x27;, &#x27;saving_accounts&#x27;,\n",
              "                                  &#x27;checking_account&#x27;, &#x27;purpose&#x27;])])</pre></div></div></div><div class=\"sk-parallel\"><div class=\"sk-parallel-item\"><div class=\"sk-item\"><div class=\"sk-label-container\"><div class=\"sk-label sk-toggleable\"><input class=\"sk-toggleable__control sk-hidden--visually\" id=\"f46099d4-3a5b-4bea-8146-531aebdc44fe\" type=\"checkbox\" ><label for=\"f46099d4-3a5b-4bea-8146-531aebdc44fe\" class=\"sk-toggleable__label sk-toggleable__label-arrow\">num</label><div class=\"sk-toggleable__content\"><pre>[&#x27;age&#x27;, &#x27;credit_amount&#x27;, &#x27;duration&#x27;]</pre></div></div></div><div class=\"sk-serial\"><div class=\"sk-item\"><div class=\"sk-serial\"><div class=\"sk-item\"><div class=\"sk-estimator sk-toggleable\"><input class=\"sk-toggleable__control sk-hidden--visually\" id=\"e7d7e3fc-8ce3-475a-8d02-263c85e19167\" type=\"checkbox\" ><label for=\"e7d7e3fc-8ce3-475a-8d02-263c85e19167\" class=\"sk-toggleable__label sk-toggleable__label-arrow\">RobustScaler</label><div class=\"sk-toggleable__content\"><pre>RobustScaler()</pre></div></div></div><div class=\"sk-item\"><div class=\"sk-estimator sk-toggleable\"><input class=\"sk-toggleable__control sk-hidden--visually\" id=\"96e263bf-1904-40d1-9737-f24f2e3d3da7\" type=\"checkbox\" ><label for=\"96e263bf-1904-40d1-9737-f24f2e3d3da7\" class=\"sk-toggleable__label sk-toggleable__label-arrow\">MinMaxScaler</label><div class=\"sk-toggleable__content\"><pre>MinMaxScaler()</pre></div></div></div></div></div></div></div></div><div class=\"sk-parallel-item\"><div class=\"sk-item\"><div class=\"sk-label-container\"><div class=\"sk-label sk-toggleable\"><input class=\"sk-toggleable__control sk-hidden--visually\" id=\"1b1c87e2-c269-4282-8ae7-a63e7d4ae053\" type=\"checkbox\" ><label for=\"1b1c87e2-c269-4282-8ae7-a63e7d4ae053\" class=\"sk-toggleable__label sk-toggleable__label-arrow\">cat</label><div class=\"sk-toggleable__content\"><pre>[&#x27;sex&#x27;, &#x27;job&#x27;, &#x27;housing&#x27;, &#x27;saving_accounts&#x27;, &#x27;checking_account&#x27;, &#x27;purpose&#x27;]</pre></div></div></div><div class=\"sk-serial\"><div class=\"sk-item\"><div class=\"sk-serial\"><div class=\"sk-item\"><div class=\"sk-estimator sk-toggleable\"><input class=\"sk-toggleable__control sk-hidden--visually\" id=\"b4392ab4-32f3-41b4-9c16-06e67826e6bb\" type=\"checkbox\" ><label for=\"b4392ab4-32f3-41b4-9c16-06e67826e6bb\" class=\"sk-toggleable__label sk-toggleable__label-arrow\">SimpleImputer</label><div class=\"sk-toggleable__content\"><pre>SimpleImputer(fill_value=&#x27;none&#x27;, strategy=&#x27;constant&#x27;)</pre></div></div></div><div class=\"sk-item\"><div class=\"sk-estimator sk-toggleable\"><input class=\"sk-toggleable__control sk-hidden--visually\" id=\"cad0c078-d6b2-4b3c-9503-bede06383608\" type=\"checkbox\" ><label for=\"cad0c078-d6b2-4b3c-9503-bede06383608\" class=\"sk-toggleable__label sk-toggleable__label-arrow\">OneHotEncoder</label><div class=\"sk-toggleable__content\"><pre>OneHotEncoder()</pre></div></div></div></div></div></div></div></div></div></div></div></div>"
            ]
          },
          "metadata": {}
        }
      ]
    },
    {
      "cell_type": "markdown",
      "source": [
        "**5.2 Construção dos Modelos: KNN, Decision Tree e Naive Bayes**\n",
        "\n",
        "|\n",
        "\n",
        "Não há como ter multiplos modelos de classificação como etapas do Pipeline, pois ele só admite um e deve ser a última etapa.\n",
        "\n",
        "\n",
        "O motivo é simples: Os classifiers geralmente não possuem o método transform, o que é um requisito das etapas internas do Pipeline do SKlearning. E se quisermos testar diversos hiperparâmetros para decidir qual o melhor conjunto para um dado modelo... vish complicou mais ainda! \n",
        "\n",
        "\n",
        "\n"
      ],
      "metadata": {
        "id": "W9BUjuzuVehC"
      }
    },
    {
      "cell_type": "markdown",
      "source": [
        "Felizmente existe uma maneira muito elegante de fazer isso utilizando programação orientada a objetos, onde podemos criar nossa própria pipeline customizada chamada de `TuringEstimatorSelector`.\n",
        "\n",
        "A ideia aqui é bem simples, você passa para uma classe dois dicionários: os modelos e os parâmetros; então você chama o método fit, espera até que tudo rode, e depois chama o método score_summary() para ter um bom DataFrame com o relatório de cada instância do modelo, de acordo com os melhores hiperparâmetros.\n"
      ],
      "metadata": {
        "id": "F9CUxBT_6Jv3"
      }
    },
    {
      "cell_type": "code",
      "source": [
        "class TuringEstimatorSelector:\n",
        "\n",
        "    def __init__(self, models, params):\n",
        "        if not set(models.keys()).issubset(set(params.keys())):\n",
        "            missing_params = list(set(models.keys()) - set(params.keys()))\n",
        "            raise ValueError(\"Alguns estimadores estão sem parâmetros: %s\" % missing_params)\n",
        "        self.models = models \n",
        "        self.params = params\n",
        "        self.keys = models.keys()\n",
        "        self.grid_searches = {}\n",
        "\n",
        "    def fit(self, X, y, cv=10, scoring=None, n_jobs=-1, verbose=1, refit=True):\n",
        "        def fluxogram(): # função parar exibir diagrama de blocos\n",
        "            return display(gs)           \n",
        "        for key in self.keys:\n",
        "            print(\"Executando GridSearchCV para %s.\" % key)\n",
        "            model = self.models[key]\n",
        "            params = self.params[key]\n",
        "            scores_dict = {\n",
        "               'accuracy' :make_scorer(accuracy_score),\n",
        "               'recall'   :make_scorer(recall_score),\n",
        "               'precision':make_scorer(precision_score),\n",
        "               'f1'       :make_scorer(fbeta_score, beta = 1)\n",
        "            }            \n",
        "            gs = GridSearchCV(model, params, cv=cv, n_jobs=-1, scoring = scores_dict,\n",
        "                              verbose=verbose, refit='f1', return_train_score=True)                        \n",
        "            gs.fit(X,y)            \n",
        "            self.grid_searches[key] = gs            \n",
        "            fluxogram()\n",
        "\n",
        "    def score_summary(self):\n",
        "          model_list = []          \n",
        "          for m in self.grid_searches:\n",
        "              # obter nome do modelo para rotular o DataFrame final:                \n",
        "              model_name = str(self.grid_searches[m].estimator) \n",
        "              # obter diversas métricas - fazer subset e gerar DataFrame:         \n",
        "              temp_df = pd.DataFrame(self.grid_searches[m].cv_results_)[\n",
        "                                              ['params',\n",
        "                                              'mean_test_accuracy',          \n",
        "                                              'mean_test_recall',\n",
        "                                              'mean_test_precision',\n",
        "                                              'mean_test_f1']].query('mean_test_f1 == mean_test_f1.max()')\n",
        "              '''\n",
        "              Inclui os DataFrames de modelos com os melhores hyperparâmetros  \n",
        "              numa lista e adiciona a coluna \"model\" em cada DataFrame:\n",
        "              '''                                                                                             \n",
        "              model_list.append(temp_df.assign(model=model_name))\n",
        "              del temp_df                    \n",
        "          # Concatena a lista de Dataframes:\n",
        "          models_grid_df = pd.concat(model_list)\n",
        "          # Move a coluna \"model\" para o inicio do DataFrame\n",
        "          shiftPos = models_grid_df.pop(\"model\"); models_grid_df.insert(0, \"model\", shiftPos)          \n",
        "          return models_grid_df"
      ],
      "metadata": {
        "id": "mcpxss580hph"
      },
      "execution_count": null,
      "outputs": []
    },
    {
      "cell_type": "markdown",
      "source": [
        "No código acima, em cada objeto `GridSearchCV` criado, testa-se cada hyperparâmetro correspondente ao seu respectivo modelo de pipeline. No caso, os hiperparâmetros foram tunados com `cv = 10` para o gridsearch realizar a validação cruzada em nosso conjunto de dados e `scoring = 'accuracy'` como métrica para obtermos uma avaliação de cada modelo. Vale resssaltar que cv = 10 é um valor escolhido arbitrariamente, no apendice esse parâmetro é explicado.\n",
        "\n"
      ],
      "metadata": {
        "id": "QqAC9mKLxIfs"
      }
    },
    {
      "cell_type": "markdown",
      "source": [
        "Para automatizar a parte do processo de tuning dos modelos de machine learning, utilizei o módulo GridSearchCV para ajustar os modelos. As métricas que podem ser utilizadas para avaliar cada conjunto de parâmetros simulados pelo `GridSearchCV` podem ser:\n",
        "\n",
        "* _recall_;\n",
        "* _precision_;\n",
        "* _accuracy_;\n",
        "* f1, ou;\n",
        "* fbeta_score (Obs.: Note que o `f1` é um caso específico do `fbeta_score` quando `beta = 1`.).\n",
        "\n",
        "E para não limitar a avaliação do modelo utilizando apenas uma só métrica, utilizei o `make_scorer` que é um módulo do Scikit Learn que possibilita o `GridSearchCV` calcular e armazenar multiplas métricas no objeto do `GridSearchCV`.\n",
        "\n",
        "\n",
        "\n",
        "\n"
      ],
      "metadata": {
        "id": "TQ0iss9UfMXa"
      }
    },
    {
      "cell_type": "markdown",
      "source": [
        "Sem mais delongas agora que temos tudo pronto vamos utilizar \n",
        "o transformador customizado `TuringEstimatorSelector`! \n",
        "\n",
        "Primeiro devemos usar dois dicionarios: O primeiro serve para armazenar os classfiers e o segundo os hiperparâmetros: "
      ],
      "metadata": {
        "id": "43SJDZyPgz5J"
      }
    },
    {
      "cell_type": "markdown",
      "source": [],
      "metadata": {
        "id": "kMixUqoMbIcZ"
      }
    },
    {
      "cell_type": "code",
      "source": [
        "# Dicionário com os classificadores.\n",
        "classifiers = {'knn': KNeighborsClassifier(),\n",
        "               'dt': DecisionTreeClassifier(),\n",
        "               'nb': BernoulliNB()}\n",
        "\n",
        "# Parametros de todos os classifiers para o GridSearchCV testar.\n",
        "hyperparameters = {'knn': {'n_neighbors' : np.arange(5, 15, 2),\n",
        "                           'weights'     : ['uniform','distance'],\n",
        "                           'metric'      : ['minkowski','euclidean','manhattan']\n",
        "                          },\n",
        "                    'dt': {'criterion'   : ['gini', 'entropy'],\n",
        "                           'max_depth'   : np.arange(3, 6, 1)\n",
        "                          },\n",
        "                    'nb': {'alpha'       : np.arange(0.01, 0.1, 0.01),\n",
        "                           'fit_prior'   : [True, False]}\n",
        "                  }"
      ],
      "metadata": {
        "id": "J6pYCkKojNrv"
      },
      "execution_count": null,
      "outputs": []
    },
    {
      "cell_type": "markdown",
      "source": [
        "Já temos toda a parte do _classifier_ pronta juntamente com a definição dos hiperparâmetros.  Agora finalmente vamos fitar os modelos: "
      ],
      "metadata": {
        "id": "6Qvagn2cjN8_"
      }
    },
    {
      "cell_type": "code",
      "source": [
        "results = TuringEstimatorSelector(classifiers, hyperparameters)\n",
        "results.fit(X_features_data_prepared, y_target_data_prepared, refit = 'f1', n_jobs=-1)"
      ],
      "metadata": {
        "colab": {
          "base_uri": "https://localhost:8080/",
          "height": 353
        },
        "id": "2wh7_fV_75Vp",
        "outputId": "23c0ee9c-8427-40bc-bd56-bd70a55be556"
      },
      "execution_count": null,
      "outputs": [
        {
          "output_type": "stream",
          "name": "stdout",
          "text": [
            "Executando GridSearchCV para knn.\n",
            "Fitting 10 folds for each of 30 candidates, totalling 300 fits\n"
          ]
        },
        {
          "output_type": "display_data",
          "data": {
            "text/plain": [
              "GridSearchCV(cv=10, estimator=KNeighborsClassifier(), n_jobs=-1,\n",
              "             param_grid={'metric': ['minkowski', 'euclidean', 'manhattan'],\n",
              "                         'n_neighbors': array([ 5,  7,  9, 11, 13]),\n",
              "                         'weights': ['uniform', 'distance']},\n",
              "             refit='f1', return_train_score=True,\n",
              "             scoring={'accuracy': make_scorer(accuracy_score),\n",
              "                      'f1': make_scorer(fbeta_score, beta=1),\n",
              "                      'precision': make_scorer(precision_score),\n",
              "                      'recall': make_scorer(recall_score)},\n",
              "             verbose=1)"
            ],
            "text/html": [
              "<style>#sk-8fb80c34-6602-4351-ad6c-33e44c4693df {color: black;background-color: white;}#sk-8fb80c34-6602-4351-ad6c-33e44c4693df pre{padding: 0;}#sk-8fb80c34-6602-4351-ad6c-33e44c4693df div.sk-toggleable {background-color: white;}#sk-8fb80c34-6602-4351-ad6c-33e44c4693df label.sk-toggleable__label {cursor: pointer;display: block;width: 100%;margin-bottom: 0;padding: 0.3em;box-sizing: border-box;text-align: center;}#sk-8fb80c34-6602-4351-ad6c-33e44c4693df label.sk-toggleable__label-arrow:before {content: \"▸\";float: left;margin-right: 0.25em;color: #696969;}#sk-8fb80c34-6602-4351-ad6c-33e44c4693df label.sk-toggleable__label-arrow:hover:before {color: black;}#sk-8fb80c34-6602-4351-ad6c-33e44c4693df div.sk-estimator:hover label.sk-toggleable__label-arrow:before {color: black;}#sk-8fb80c34-6602-4351-ad6c-33e44c4693df div.sk-toggleable__content {max-height: 0;max-width: 0;overflow: hidden;text-align: left;background-color: #f0f8ff;}#sk-8fb80c34-6602-4351-ad6c-33e44c4693df div.sk-toggleable__content pre {margin: 0.2em;color: black;border-radius: 0.25em;background-color: #f0f8ff;}#sk-8fb80c34-6602-4351-ad6c-33e44c4693df input.sk-toggleable__control:checked~div.sk-toggleable__content {max-height: 200px;max-width: 100%;overflow: auto;}#sk-8fb80c34-6602-4351-ad6c-33e44c4693df input.sk-toggleable__control:checked~label.sk-toggleable__label-arrow:before {content: \"▾\";}#sk-8fb80c34-6602-4351-ad6c-33e44c4693df div.sk-estimator input.sk-toggleable__control:checked~label.sk-toggleable__label {background-color: #d4ebff;}#sk-8fb80c34-6602-4351-ad6c-33e44c4693df div.sk-label input.sk-toggleable__control:checked~label.sk-toggleable__label {background-color: #d4ebff;}#sk-8fb80c34-6602-4351-ad6c-33e44c4693df input.sk-hidden--visually {border: 0;clip: rect(1px 1px 1px 1px);clip: rect(1px, 1px, 1px, 1px);height: 1px;margin: -1px;overflow: hidden;padding: 0;position: absolute;width: 1px;}#sk-8fb80c34-6602-4351-ad6c-33e44c4693df div.sk-estimator {font-family: monospace;background-color: #f0f8ff;border: 1px dotted black;border-radius: 0.25em;box-sizing: border-box;margin-bottom: 0.5em;}#sk-8fb80c34-6602-4351-ad6c-33e44c4693df div.sk-estimator:hover {background-color: #d4ebff;}#sk-8fb80c34-6602-4351-ad6c-33e44c4693df div.sk-parallel-item::after {content: \"\";width: 100%;border-bottom: 1px solid gray;flex-grow: 1;}#sk-8fb80c34-6602-4351-ad6c-33e44c4693df div.sk-label:hover label.sk-toggleable__label {background-color: #d4ebff;}#sk-8fb80c34-6602-4351-ad6c-33e44c4693df div.sk-serial::before {content: \"\";position: absolute;border-left: 1px solid gray;box-sizing: border-box;top: 2em;bottom: 0;left: 50%;}#sk-8fb80c34-6602-4351-ad6c-33e44c4693df div.sk-serial {display: flex;flex-direction: column;align-items: center;background-color: white;padding-right: 0.2em;padding-left: 0.2em;}#sk-8fb80c34-6602-4351-ad6c-33e44c4693df div.sk-item {z-index: 1;}#sk-8fb80c34-6602-4351-ad6c-33e44c4693df div.sk-parallel {display: flex;align-items: stretch;justify-content: center;background-color: white;}#sk-8fb80c34-6602-4351-ad6c-33e44c4693df div.sk-parallel::before {content: \"\";position: absolute;border-left: 1px solid gray;box-sizing: border-box;top: 2em;bottom: 0;left: 50%;}#sk-8fb80c34-6602-4351-ad6c-33e44c4693df div.sk-parallel-item {display: flex;flex-direction: column;position: relative;background-color: white;}#sk-8fb80c34-6602-4351-ad6c-33e44c4693df div.sk-parallel-item:first-child::after {align-self: flex-end;width: 50%;}#sk-8fb80c34-6602-4351-ad6c-33e44c4693df div.sk-parallel-item:last-child::after {align-self: flex-start;width: 50%;}#sk-8fb80c34-6602-4351-ad6c-33e44c4693df div.sk-parallel-item:only-child::after {width: 0;}#sk-8fb80c34-6602-4351-ad6c-33e44c4693df div.sk-dashed-wrapped {border: 1px dashed gray;margin: 0 0.4em 0.5em 0.4em;box-sizing: border-box;padding-bottom: 0.4em;background-color: white;position: relative;}#sk-8fb80c34-6602-4351-ad6c-33e44c4693df div.sk-label label {font-family: monospace;font-weight: bold;background-color: white;display: inline-block;line-height: 1.2em;}#sk-8fb80c34-6602-4351-ad6c-33e44c4693df div.sk-label-container {position: relative;z-index: 2;text-align: center;}#sk-8fb80c34-6602-4351-ad6c-33e44c4693df div.sk-container {/* jupyter's `normalize.less` sets `[hidden] { display: none; }` but bootstrap.min.css set `[hidden] { display: none !important; }` so we also need the `!important` here to be able to override the default hidden behavior on the sphinx rendered scikit-learn.org. See: https://github.com/scikit-learn/scikit-learn/issues/21755 */display: inline-block !important;position: relative;}#sk-8fb80c34-6602-4351-ad6c-33e44c4693df div.sk-text-repr-fallback {display: none;}</style><div id=\"sk-8fb80c34-6602-4351-ad6c-33e44c4693df\" class=\"sk-top-container\"><div class=\"sk-text-repr-fallback\"><pre>GridSearchCV(cv=10, estimator=KNeighborsClassifier(), n_jobs=-1,\n",
              "             param_grid={&#x27;metric&#x27;: [&#x27;minkowski&#x27;, &#x27;euclidean&#x27;, &#x27;manhattan&#x27;],\n",
              "                         &#x27;n_neighbors&#x27;: array([ 5,  7,  9, 11, 13]),\n",
              "                         &#x27;weights&#x27;: [&#x27;uniform&#x27;, &#x27;distance&#x27;]},\n",
              "             refit=&#x27;f1&#x27;, return_train_score=True,\n",
              "             scoring={&#x27;accuracy&#x27;: make_scorer(accuracy_score),\n",
              "                      &#x27;f1&#x27;: make_scorer(fbeta_score, beta=1),\n",
              "                      &#x27;precision&#x27;: make_scorer(precision_score),\n",
              "                      &#x27;recall&#x27;: make_scorer(recall_score)},\n",
              "             verbose=1)</pre><b>Please rerun this cell to show the HTML repr or trust the notebook.</b></div><div class=\"sk-container\" hidden><div class=\"sk-item sk-dashed-wrapped\"><div class=\"sk-label-container\"><div class=\"sk-label sk-toggleable\"><input class=\"sk-toggleable__control sk-hidden--visually\" id=\"9961154b-f14f-4295-9b46-14327efdcf71\" type=\"checkbox\" ><label for=\"9961154b-f14f-4295-9b46-14327efdcf71\" class=\"sk-toggleable__label sk-toggleable__label-arrow\">GridSearchCV</label><div class=\"sk-toggleable__content\"><pre>GridSearchCV(cv=10, estimator=KNeighborsClassifier(), n_jobs=-1,\n",
              "             param_grid={&#x27;metric&#x27;: [&#x27;minkowski&#x27;, &#x27;euclidean&#x27;, &#x27;manhattan&#x27;],\n",
              "                         &#x27;n_neighbors&#x27;: array([ 5,  7,  9, 11, 13]),\n",
              "                         &#x27;weights&#x27;: [&#x27;uniform&#x27;, &#x27;distance&#x27;]},\n",
              "             refit=&#x27;f1&#x27;, return_train_score=True,\n",
              "             scoring={&#x27;accuracy&#x27;: make_scorer(accuracy_score),\n",
              "                      &#x27;f1&#x27;: make_scorer(fbeta_score, beta=1),\n",
              "                      &#x27;precision&#x27;: make_scorer(precision_score),\n",
              "                      &#x27;recall&#x27;: make_scorer(recall_score)},\n",
              "             verbose=1)</pre></div></div></div><div class=\"sk-parallel\"><div class=\"sk-parallel-item\"><div class=\"sk-item\"><div class=\"sk-serial\"><div class=\"sk-item\"><div class=\"sk-estimator sk-toggleable\"><input class=\"sk-toggleable__control sk-hidden--visually\" id=\"85be8fc7-6a10-48d4-a306-a34998dcad5d\" type=\"checkbox\" ><label for=\"85be8fc7-6a10-48d4-a306-a34998dcad5d\" class=\"sk-toggleable__label sk-toggleable__label-arrow\">KNeighborsClassifier</label><div class=\"sk-toggleable__content\"><pre>KNeighborsClassifier()</pre></div></div></div></div></div></div></div></div></div></div>"
            ]
          },
          "metadata": {}
        },
        {
          "output_type": "stream",
          "name": "stdout",
          "text": [
            "Executando GridSearchCV para dt.\n",
            "Fitting 10 folds for each of 6 candidates, totalling 60 fits\n"
          ]
        },
        {
          "output_type": "display_data",
          "data": {
            "text/plain": [
              "GridSearchCV(cv=10, estimator=DecisionTreeClassifier(), n_jobs=-1,\n",
              "             param_grid={'criterion': ['gini', 'entropy'],\n",
              "                         'max_depth': array([3, 4, 5])},\n",
              "             refit='f1', return_train_score=True,\n",
              "             scoring={'accuracy': make_scorer(accuracy_score),\n",
              "                      'f1': make_scorer(fbeta_score, beta=1),\n",
              "                      'precision': make_scorer(precision_score),\n",
              "                      'recall': make_scorer(recall_score)},\n",
              "             verbose=1)"
            ],
            "text/html": [
              "<style>#sk-edcf0c1b-32dd-4b95-91f3-ddabc1e74e35 {color: black;background-color: white;}#sk-edcf0c1b-32dd-4b95-91f3-ddabc1e74e35 pre{padding: 0;}#sk-edcf0c1b-32dd-4b95-91f3-ddabc1e74e35 div.sk-toggleable {background-color: white;}#sk-edcf0c1b-32dd-4b95-91f3-ddabc1e74e35 label.sk-toggleable__label {cursor: pointer;display: block;width: 100%;margin-bottom: 0;padding: 0.3em;box-sizing: border-box;text-align: center;}#sk-edcf0c1b-32dd-4b95-91f3-ddabc1e74e35 label.sk-toggleable__label-arrow:before {content: \"▸\";float: left;margin-right: 0.25em;color: #696969;}#sk-edcf0c1b-32dd-4b95-91f3-ddabc1e74e35 label.sk-toggleable__label-arrow:hover:before {color: black;}#sk-edcf0c1b-32dd-4b95-91f3-ddabc1e74e35 div.sk-estimator:hover label.sk-toggleable__label-arrow:before {color: black;}#sk-edcf0c1b-32dd-4b95-91f3-ddabc1e74e35 div.sk-toggleable__content {max-height: 0;max-width: 0;overflow: hidden;text-align: left;background-color: #f0f8ff;}#sk-edcf0c1b-32dd-4b95-91f3-ddabc1e74e35 div.sk-toggleable__content pre {margin: 0.2em;color: black;border-radius: 0.25em;background-color: #f0f8ff;}#sk-edcf0c1b-32dd-4b95-91f3-ddabc1e74e35 input.sk-toggleable__control:checked~div.sk-toggleable__content {max-height: 200px;max-width: 100%;overflow: auto;}#sk-edcf0c1b-32dd-4b95-91f3-ddabc1e74e35 input.sk-toggleable__control:checked~label.sk-toggleable__label-arrow:before {content: \"▾\";}#sk-edcf0c1b-32dd-4b95-91f3-ddabc1e74e35 div.sk-estimator input.sk-toggleable__control:checked~label.sk-toggleable__label {background-color: #d4ebff;}#sk-edcf0c1b-32dd-4b95-91f3-ddabc1e74e35 div.sk-label input.sk-toggleable__control:checked~label.sk-toggleable__label {background-color: #d4ebff;}#sk-edcf0c1b-32dd-4b95-91f3-ddabc1e74e35 input.sk-hidden--visually {border: 0;clip: rect(1px 1px 1px 1px);clip: rect(1px, 1px, 1px, 1px);height: 1px;margin: -1px;overflow: hidden;padding: 0;position: absolute;width: 1px;}#sk-edcf0c1b-32dd-4b95-91f3-ddabc1e74e35 div.sk-estimator {font-family: monospace;background-color: #f0f8ff;border: 1px dotted black;border-radius: 0.25em;box-sizing: border-box;margin-bottom: 0.5em;}#sk-edcf0c1b-32dd-4b95-91f3-ddabc1e74e35 div.sk-estimator:hover {background-color: #d4ebff;}#sk-edcf0c1b-32dd-4b95-91f3-ddabc1e74e35 div.sk-parallel-item::after {content: \"\";width: 100%;border-bottom: 1px solid gray;flex-grow: 1;}#sk-edcf0c1b-32dd-4b95-91f3-ddabc1e74e35 div.sk-label:hover label.sk-toggleable__label {background-color: #d4ebff;}#sk-edcf0c1b-32dd-4b95-91f3-ddabc1e74e35 div.sk-serial::before {content: \"\";position: absolute;border-left: 1px solid gray;box-sizing: border-box;top: 2em;bottom: 0;left: 50%;}#sk-edcf0c1b-32dd-4b95-91f3-ddabc1e74e35 div.sk-serial {display: flex;flex-direction: column;align-items: center;background-color: white;padding-right: 0.2em;padding-left: 0.2em;}#sk-edcf0c1b-32dd-4b95-91f3-ddabc1e74e35 div.sk-item {z-index: 1;}#sk-edcf0c1b-32dd-4b95-91f3-ddabc1e74e35 div.sk-parallel {display: flex;align-items: stretch;justify-content: center;background-color: white;}#sk-edcf0c1b-32dd-4b95-91f3-ddabc1e74e35 div.sk-parallel::before {content: \"\";position: absolute;border-left: 1px solid gray;box-sizing: border-box;top: 2em;bottom: 0;left: 50%;}#sk-edcf0c1b-32dd-4b95-91f3-ddabc1e74e35 div.sk-parallel-item {display: flex;flex-direction: column;position: relative;background-color: white;}#sk-edcf0c1b-32dd-4b95-91f3-ddabc1e74e35 div.sk-parallel-item:first-child::after {align-self: flex-end;width: 50%;}#sk-edcf0c1b-32dd-4b95-91f3-ddabc1e74e35 div.sk-parallel-item:last-child::after {align-self: flex-start;width: 50%;}#sk-edcf0c1b-32dd-4b95-91f3-ddabc1e74e35 div.sk-parallel-item:only-child::after {width: 0;}#sk-edcf0c1b-32dd-4b95-91f3-ddabc1e74e35 div.sk-dashed-wrapped {border: 1px dashed gray;margin: 0 0.4em 0.5em 0.4em;box-sizing: border-box;padding-bottom: 0.4em;background-color: white;position: relative;}#sk-edcf0c1b-32dd-4b95-91f3-ddabc1e74e35 div.sk-label label {font-family: monospace;font-weight: bold;background-color: white;display: inline-block;line-height: 1.2em;}#sk-edcf0c1b-32dd-4b95-91f3-ddabc1e74e35 div.sk-label-container {position: relative;z-index: 2;text-align: center;}#sk-edcf0c1b-32dd-4b95-91f3-ddabc1e74e35 div.sk-container {/* jupyter's `normalize.less` sets `[hidden] { display: none; }` but bootstrap.min.css set `[hidden] { display: none !important; }` so we also need the `!important` here to be able to override the default hidden behavior on the sphinx rendered scikit-learn.org. See: https://github.com/scikit-learn/scikit-learn/issues/21755 */display: inline-block !important;position: relative;}#sk-edcf0c1b-32dd-4b95-91f3-ddabc1e74e35 div.sk-text-repr-fallback {display: none;}</style><div id=\"sk-edcf0c1b-32dd-4b95-91f3-ddabc1e74e35\" class=\"sk-top-container\"><div class=\"sk-text-repr-fallback\"><pre>GridSearchCV(cv=10, estimator=DecisionTreeClassifier(), n_jobs=-1,\n",
              "             param_grid={&#x27;criterion&#x27;: [&#x27;gini&#x27;, &#x27;entropy&#x27;],\n",
              "                         &#x27;max_depth&#x27;: array([3, 4, 5])},\n",
              "             refit=&#x27;f1&#x27;, return_train_score=True,\n",
              "             scoring={&#x27;accuracy&#x27;: make_scorer(accuracy_score),\n",
              "                      &#x27;f1&#x27;: make_scorer(fbeta_score, beta=1),\n",
              "                      &#x27;precision&#x27;: make_scorer(precision_score),\n",
              "                      &#x27;recall&#x27;: make_scorer(recall_score)},\n",
              "             verbose=1)</pre><b>Please rerun this cell to show the HTML repr or trust the notebook.</b></div><div class=\"sk-container\" hidden><div class=\"sk-item sk-dashed-wrapped\"><div class=\"sk-label-container\"><div class=\"sk-label sk-toggleable\"><input class=\"sk-toggleable__control sk-hidden--visually\" id=\"1b75b909-c401-4f91-8e9e-c1ba60376d37\" type=\"checkbox\" ><label for=\"1b75b909-c401-4f91-8e9e-c1ba60376d37\" class=\"sk-toggleable__label sk-toggleable__label-arrow\">GridSearchCV</label><div class=\"sk-toggleable__content\"><pre>GridSearchCV(cv=10, estimator=DecisionTreeClassifier(), n_jobs=-1,\n",
              "             param_grid={&#x27;criterion&#x27;: [&#x27;gini&#x27;, &#x27;entropy&#x27;],\n",
              "                         &#x27;max_depth&#x27;: array([3, 4, 5])},\n",
              "             refit=&#x27;f1&#x27;, return_train_score=True,\n",
              "             scoring={&#x27;accuracy&#x27;: make_scorer(accuracy_score),\n",
              "                      &#x27;f1&#x27;: make_scorer(fbeta_score, beta=1),\n",
              "                      &#x27;precision&#x27;: make_scorer(precision_score),\n",
              "                      &#x27;recall&#x27;: make_scorer(recall_score)},\n",
              "             verbose=1)</pre></div></div></div><div class=\"sk-parallel\"><div class=\"sk-parallel-item\"><div class=\"sk-item\"><div class=\"sk-serial\"><div class=\"sk-item\"><div class=\"sk-estimator sk-toggleable\"><input class=\"sk-toggleable__control sk-hidden--visually\" id=\"5ff7a93a-0e2d-4148-b7f2-b2f867e0fd93\" type=\"checkbox\" ><label for=\"5ff7a93a-0e2d-4148-b7f2-b2f867e0fd93\" class=\"sk-toggleable__label sk-toggleable__label-arrow\">DecisionTreeClassifier</label><div class=\"sk-toggleable__content\"><pre>DecisionTreeClassifier()</pre></div></div></div></div></div></div></div></div></div></div>"
            ]
          },
          "metadata": {}
        },
        {
          "output_type": "stream",
          "name": "stdout",
          "text": [
            "Executando GridSearchCV para nb.\n",
            "Fitting 10 folds for each of 18 candidates, totalling 180 fits\n"
          ]
        },
        {
          "output_type": "display_data",
          "data": {
            "text/plain": [
              "GridSearchCV(cv=10, estimator=BernoulliNB(), n_jobs=-1,\n",
              "             param_grid={'alpha': array([0.01, 0.02, 0.03, 0.04, 0.05, 0.06, 0.07, 0.08, 0.09]),\n",
              "                         'fit_prior': [True, False]},\n",
              "             refit='f1', return_train_score=True,\n",
              "             scoring={'accuracy': make_scorer(accuracy_score),\n",
              "                      'f1': make_scorer(fbeta_score, beta=1),\n",
              "                      'precision': make_scorer(precision_score),\n",
              "                      'recall': make_scorer(recall_score)},\n",
              "             verbose=1)"
            ],
            "text/html": [
              "<style>#sk-32ab08b0-2087-4f04-ad23-7169ee8e648a {color: black;background-color: white;}#sk-32ab08b0-2087-4f04-ad23-7169ee8e648a pre{padding: 0;}#sk-32ab08b0-2087-4f04-ad23-7169ee8e648a div.sk-toggleable {background-color: white;}#sk-32ab08b0-2087-4f04-ad23-7169ee8e648a label.sk-toggleable__label {cursor: pointer;display: block;width: 100%;margin-bottom: 0;padding: 0.3em;box-sizing: border-box;text-align: center;}#sk-32ab08b0-2087-4f04-ad23-7169ee8e648a label.sk-toggleable__label-arrow:before {content: \"▸\";float: left;margin-right: 0.25em;color: #696969;}#sk-32ab08b0-2087-4f04-ad23-7169ee8e648a label.sk-toggleable__label-arrow:hover:before {color: black;}#sk-32ab08b0-2087-4f04-ad23-7169ee8e648a div.sk-estimator:hover label.sk-toggleable__label-arrow:before {color: black;}#sk-32ab08b0-2087-4f04-ad23-7169ee8e648a div.sk-toggleable__content {max-height: 0;max-width: 0;overflow: hidden;text-align: left;background-color: #f0f8ff;}#sk-32ab08b0-2087-4f04-ad23-7169ee8e648a div.sk-toggleable__content pre {margin: 0.2em;color: black;border-radius: 0.25em;background-color: #f0f8ff;}#sk-32ab08b0-2087-4f04-ad23-7169ee8e648a input.sk-toggleable__control:checked~div.sk-toggleable__content {max-height: 200px;max-width: 100%;overflow: auto;}#sk-32ab08b0-2087-4f04-ad23-7169ee8e648a input.sk-toggleable__control:checked~label.sk-toggleable__label-arrow:before {content: \"▾\";}#sk-32ab08b0-2087-4f04-ad23-7169ee8e648a div.sk-estimator input.sk-toggleable__control:checked~label.sk-toggleable__label {background-color: #d4ebff;}#sk-32ab08b0-2087-4f04-ad23-7169ee8e648a div.sk-label input.sk-toggleable__control:checked~label.sk-toggleable__label {background-color: #d4ebff;}#sk-32ab08b0-2087-4f04-ad23-7169ee8e648a input.sk-hidden--visually {border: 0;clip: rect(1px 1px 1px 1px);clip: rect(1px, 1px, 1px, 1px);height: 1px;margin: -1px;overflow: hidden;padding: 0;position: absolute;width: 1px;}#sk-32ab08b0-2087-4f04-ad23-7169ee8e648a div.sk-estimator {font-family: monospace;background-color: #f0f8ff;border: 1px dotted black;border-radius: 0.25em;box-sizing: border-box;margin-bottom: 0.5em;}#sk-32ab08b0-2087-4f04-ad23-7169ee8e648a div.sk-estimator:hover {background-color: #d4ebff;}#sk-32ab08b0-2087-4f04-ad23-7169ee8e648a div.sk-parallel-item::after {content: \"\";width: 100%;border-bottom: 1px solid gray;flex-grow: 1;}#sk-32ab08b0-2087-4f04-ad23-7169ee8e648a div.sk-label:hover label.sk-toggleable__label {background-color: #d4ebff;}#sk-32ab08b0-2087-4f04-ad23-7169ee8e648a div.sk-serial::before {content: \"\";position: absolute;border-left: 1px solid gray;box-sizing: border-box;top: 2em;bottom: 0;left: 50%;}#sk-32ab08b0-2087-4f04-ad23-7169ee8e648a div.sk-serial {display: flex;flex-direction: column;align-items: center;background-color: white;padding-right: 0.2em;padding-left: 0.2em;}#sk-32ab08b0-2087-4f04-ad23-7169ee8e648a div.sk-item {z-index: 1;}#sk-32ab08b0-2087-4f04-ad23-7169ee8e648a div.sk-parallel {display: flex;align-items: stretch;justify-content: center;background-color: white;}#sk-32ab08b0-2087-4f04-ad23-7169ee8e648a div.sk-parallel::before {content: \"\";position: absolute;border-left: 1px solid gray;box-sizing: border-box;top: 2em;bottom: 0;left: 50%;}#sk-32ab08b0-2087-4f04-ad23-7169ee8e648a div.sk-parallel-item {display: flex;flex-direction: column;position: relative;background-color: white;}#sk-32ab08b0-2087-4f04-ad23-7169ee8e648a div.sk-parallel-item:first-child::after {align-self: flex-end;width: 50%;}#sk-32ab08b0-2087-4f04-ad23-7169ee8e648a div.sk-parallel-item:last-child::after {align-self: flex-start;width: 50%;}#sk-32ab08b0-2087-4f04-ad23-7169ee8e648a div.sk-parallel-item:only-child::after {width: 0;}#sk-32ab08b0-2087-4f04-ad23-7169ee8e648a div.sk-dashed-wrapped {border: 1px dashed gray;margin: 0 0.4em 0.5em 0.4em;box-sizing: border-box;padding-bottom: 0.4em;background-color: white;position: relative;}#sk-32ab08b0-2087-4f04-ad23-7169ee8e648a div.sk-label label {font-family: monospace;font-weight: bold;background-color: white;display: inline-block;line-height: 1.2em;}#sk-32ab08b0-2087-4f04-ad23-7169ee8e648a div.sk-label-container {position: relative;z-index: 2;text-align: center;}#sk-32ab08b0-2087-4f04-ad23-7169ee8e648a div.sk-container {/* jupyter's `normalize.less` sets `[hidden] { display: none; }` but bootstrap.min.css set `[hidden] { display: none !important; }` so we also need the `!important` here to be able to override the default hidden behavior on the sphinx rendered scikit-learn.org. See: https://github.com/scikit-learn/scikit-learn/issues/21755 */display: inline-block !important;position: relative;}#sk-32ab08b0-2087-4f04-ad23-7169ee8e648a div.sk-text-repr-fallback {display: none;}</style><div id=\"sk-32ab08b0-2087-4f04-ad23-7169ee8e648a\" class=\"sk-top-container\"><div class=\"sk-text-repr-fallback\"><pre>GridSearchCV(cv=10, estimator=BernoulliNB(), n_jobs=-1,\n",
              "             param_grid={&#x27;alpha&#x27;: array([0.01, 0.02, 0.03, 0.04, 0.05, 0.06, 0.07, 0.08, 0.09]),\n",
              "                         &#x27;fit_prior&#x27;: [True, False]},\n",
              "             refit=&#x27;f1&#x27;, return_train_score=True,\n",
              "             scoring={&#x27;accuracy&#x27;: make_scorer(accuracy_score),\n",
              "                      &#x27;f1&#x27;: make_scorer(fbeta_score, beta=1),\n",
              "                      &#x27;precision&#x27;: make_scorer(precision_score),\n",
              "                      &#x27;recall&#x27;: make_scorer(recall_score)},\n",
              "             verbose=1)</pre><b>Please rerun this cell to show the HTML repr or trust the notebook.</b></div><div class=\"sk-container\" hidden><div class=\"sk-item sk-dashed-wrapped\"><div class=\"sk-label-container\"><div class=\"sk-label sk-toggleable\"><input class=\"sk-toggleable__control sk-hidden--visually\" id=\"bf8aad78-86f2-4b78-8d87-f7652f6e93e3\" type=\"checkbox\" ><label for=\"bf8aad78-86f2-4b78-8d87-f7652f6e93e3\" class=\"sk-toggleable__label sk-toggleable__label-arrow\">GridSearchCV</label><div class=\"sk-toggleable__content\"><pre>GridSearchCV(cv=10, estimator=BernoulliNB(), n_jobs=-1,\n",
              "             param_grid={&#x27;alpha&#x27;: array([0.01, 0.02, 0.03, 0.04, 0.05, 0.06, 0.07, 0.08, 0.09]),\n",
              "                         &#x27;fit_prior&#x27;: [True, False]},\n",
              "             refit=&#x27;f1&#x27;, return_train_score=True,\n",
              "             scoring={&#x27;accuracy&#x27;: make_scorer(accuracy_score),\n",
              "                      &#x27;f1&#x27;: make_scorer(fbeta_score, beta=1),\n",
              "                      &#x27;precision&#x27;: make_scorer(precision_score),\n",
              "                      &#x27;recall&#x27;: make_scorer(recall_score)},\n",
              "             verbose=1)</pre></div></div></div><div class=\"sk-parallel\"><div class=\"sk-parallel-item\"><div class=\"sk-item\"><div class=\"sk-serial\"><div class=\"sk-item\"><div class=\"sk-estimator sk-toggleable\"><input class=\"sk-toggleable__control sk-hidden--visually\" id=\"847c0daf-e82b-4b13-b362-0b456a9dc5d6\" type=\"checkbox\" ><label for=\"847c0daf-e82b-4b13-b362-0b456a9dc5d6\" class=\"sk-toggleable__label sk-toggleable__label-arrow\">BernoulliNB</label><div class=\"sk-toggleable__content\"><pre>BernoulliNB()</pre></div></div></div></div></div></div></div></div></div></div>"
            ]
          },
          "metadata": {}
        }
      ]
    },
    {
      "cell_type": "markdown",
      "source": [
        "Vale ressaltar que sem definir uma estratégia de escolha é muito difícil prever o melhor conjunto de hiperparâmetros. Dessa maneira, definiu-se o `refit` para que o `GridSearchCV` possa eleger a melhor solução quando solicitado. No presente estudo de caso, foi definido `f1` como estratégia de escolha, logo o `f1` é a \"prova dos nove\" para o melhor conjunto de hiperparâmetros de cada modelo de classificação. \n",
        "\n",
        "Para imprimir as melhores métricas dentre o conjunto de parâmetros utilizei uma _query_ para selecionar um conjunto de parâmetros. Conforme estipulado, definiu-se o conjunto com o maior valor de `f1` e imprimiu-se os valores de `accuracy`, `recall`, `precision` e `f1`. "
      ],
      "metadata": {
        "id": "hXR8bHZoVT6k"
      }
    },
    {
      "cell_type": "markdown",
      "source": [],
      "metadata": {
        "id": "sJKtDgiVxran"
      }
    },
    {
      "cell_type": "code",
      "source": [
        "pd.set_option('display.max_colwidth', None)\n",
        "display(results.score_summary())"
      ],
      "metadata": {
        "colab": {
          "base_uri": "https://localhost:8080/",
          "height": 253
        },
        "id": "e-JkBMsUVqXm",
        "outputId": "11696ada-1f94-446a-a65e-e37dc1417e56"
      },
      "execution_count": null,
      "outputs": [
        {
          "output_type": "display_data",
          "data": {
            "text/plain": [
              "                       model  \\\n",
              "8     KNeighborsClassifier()   \n",
              "18    KNeighborsClassifier()   \n",
              "0   DecisionTreeClassifier()   \n",
              "0              BernoulliNB()   \n",
              "\n",
              "                                                              params  \\\n",
              "8   {'metric': 'minkowski', 'n_neighbors': 13, 'weights': 'uniform'}   \n",
              "18  {'metric': 'euclidean', 'n_neighbors': 13, 'weights': 'uniform'}   \n",
              "0                              {'criterion': 'gini', 'max_depth': 3}   \n",
              "0                                 {'alpha': 0.01, 'fit_prior': True}   \n",
              "\n",
              "    mean_test_accuracy  mean_test_recall  mean_test_precision  mean_test_f1  \n",
              "8                0.726          0.911429             0.751317      0.823220  \n",
              "18               0.726          0.911429             0.751317      0.823220  \n",
              "0                0.720          0.902857             0.750235      0.818738  \n",
              "0                0.706          0.782857             0.796359      0.788444  "
            ],
            "text/html": [
              "\n",
              "  <div id=\"df-92655e85-386f-4661-8016-2ba2a73f850b\">\n",
              "    <div class=\"colab-df-container\">\n",
              "      <div>\n",
              "<style scoped>\n",
              "    .dataframe tbody tr th:only-of-type {\n",
              "        vertical-align: middle;\n",
              "    }\n",
              "\n",
              "    .dataframe tbody tr th {\n",
              "        vertical-align: top;\n",
              "    }\n",
              "\n",
              "    .dataframe thead th {\n",
              "        text-align: right;\n",
              "    }\n",
              "</style>\n",
              "<table border=\"1\" class=\"dataframe\">\n",
              "  <thead>\n",
              "    <tr style=\"text-align: right;\">\n",
              "      <th></th>\n",
              "      <th>model</th>\n",
              "      <th>params</th>\n",
              "      <th>mean_test_accuracy</th>\n",
              "      <th>mean_test_recall</th>\n",
              "      <th>mean_test_precision</th>\n",
              "      <th>mean_test_f1</th>\n",
              "    </tr>\n",
              "  </thead>\n",
              "  <tbody>\n",
              "    <tr>\n",
              "      <th>8</th>\n",
              "      <td>KNeighborsClassifier()</td>\n",
              "      <td>{'metric': 'minkowski', 'n_neighbors': 13, 'weights': 'uniform'}</td>\n",
              "      <td>0.726</td>\n",
              "      <td>0.911429</td>\n",
              "      <td>0.751317</td>\n",
              "      <td>0.823220</td>\n",
              "    </tr>\n",
              "    <tr>\n",
              "      <th>18</th>\n",
              "      <td>KNeighborsClassifier()</td>\n",
              "      <td>{'metric': 'euclidean', 'n_neighbors': 13, 'weights': 'uniform'}</td>\n",
              "      <td>0.726</td>\n",
              "      <td>0.911429</td>\n",
              "      <td>0.751317</td>\n",
              "      <td>0.823220</td>\n",
              "    </tr>\n",
              "    <tr>\n",
              "      <th>0</th>\n",
              "      <td>DecisionTreeClassifier()</td>\n",
              "      <td>{'criterion': 'gini', 'max_depth': 3}</td>\n",
              "      <td>0.720</td>\n",
              "      <td>0.902857</td>\n",
              "      <td>0.750235</td>\n",
              "      <td>0.818738</td>\n",
              "    </tr>\n",
              "    <tr>\n",
              "      <th>0</th>\n",
              "      <td>BernoulliNB()</td>\n",
              "      <td>{'alpha': 0.01, 'fit_prior': True}</td>\n",
              "      <td>0.706</td>\n",
              "      <td>0.782857</td>\n",
              "      <td>0.796359</td>\n",
              "      <td>0.788444</td>\n",
              "    </tr>\n",
              "  </tbody>\n",
              "</table>\n",
              "</div>\n",
              "      <button class=\"colab-df-convert\" onclick=\"convertToInteractive('df-92655e85-386f-4661-8016-2ba2a73f850b')\"\n",
              "              title=\"Convert this dataframe to an interactive table.\"\n",
              "              style=\"display:none;\">\n",
              "        \n",
              "  <svg xmlns=\"http://www.w3.org/2000/svg\" height=\"24px\"viewBox=\"0 0 24 24\"\n",
              "       width=\"24px\">\n",
              "    <path d=\"M0 0h24v24H0V0z\" fill=\"none\"/>\n",
              "    <path d=\"M18.56 5.44l.94 2.06.94-2.06 2.06-.94-2.06-.94-.94-2.06-.94 2.06-2.06.94zm-11 1L8.5 8.5l.94-2.06 2.06-.94-2.06-.94L8.5 2.5l-.94 2.06-2.06.94zm10 10l.94 2.06.94-2.06 2.06-.94-2.06-.94-.94-2.06-.94 2.06-2.06.94z\"/><path d=\"M17.41 7.96l-1.37-1.37c-.4-.4-.92-.59-1.43-.59-.52 0-1.04.2-1.43.59L10.3 9.45l-7.72 7.72c-.78.78-.78 2.05 0 2.83L4 21.41c.39.39.9.59 1.41.59.51 0 1.02-.2 1.41-.59l7.78-7.78 2.81-2.81c.8-.78.8-2.07 0-2.86zM5.41 20L4 18.59l7.72-7.72 1.47 1.35L5.41 20z\"/>\n",
              "  </svg>\n",
              "      </button>\n",
              "      \n",
              "  <style>\n",
              "    .colab-df-container {\n",
              "      display:flex;\n",
              "      flex-wrap:wrap;\n",
              "      gap: 12px;\n",
              "    }\n",
              "\n",
              "    .colab-df-convert {\n",
              "      background-color: #E8F0FE;\n",
              "      border: none;\n",
              "      border-radius: 50%;\n",
              "      cursor: pointer;\n",
              "      display: none;\n",
              "      fill: #1967D2;\n",
              "      height: 32px;\n",
              "      padding: 0 0 0 0;\n",
              "      width: 32px;\n",
              "    }\n",
              "\n",
              "    .colab-df-convert:hover {\n",
              "      background-color: #E2EBFA;\n",
              "      box-shadow: 0px 1px 2px rgba(60, 64, 67, 0.3), 0px 1px 3px 1px rgba(60, 64, 67, 0.15);\n",
              "      fill: #174EA6;\n",
              "    }\n",
              "\n",
              "    [theme=dark] .colab-df-convert {\n",
              "      background-color: #3B4455;\n",
              "      fill: #D2E3FC;\n",
              "    }\n",
              "\n",
              "    [theme=dark] .colab-df-convert:hover {\n",
              "      background-color: #434B5C;\n",
              "      box-shadow: 0px 1px 3px 1px rgba(0, 0, 0, 0.15);\n",
              "      filter: drop-shadow(0px 1px 2px rgba(0, 0, 0, 0.3));\n",
              "      fill: #FFFFFF;\n",
              "    }\n",
              "  </style>\n",
              "\n",
              "      <script>\n",
              "        const buttonEl =\n",
              "          document.querySelector('#df-92655e85-386f-4661-8016-2ba2a73f850b button.colab-df-convert');\n",
              "        buttonEl.style.display =\n",
              "          google.colab.kernel.accessAllowed ? 'block' : 'none';\n",
              "\n",
              "        async function convertToInteractive(key) {\n",
              "          const element = document.querySelector('#df-92655e85-386f-4661-8016-2ba2a73f850b');\n",
              "          const dataTable =\n",
              "            await google.colab.kernel.invokeFunction('convertToInteractive',\n",
              "                                                     [key], {});\n",
              "          if (!dataTable) return;\n",
              "\n",
              "          const docLinkHtml = 'Like what you see? Visit the ' +\n",
              "            '<a target=\"_blank\" href=https://colab.research.google.com/notebooks/data_table.ipynb>data table notebook</a>'\n",
              "            + ' to learn more about interactive tables.';\n",
              "          element.innerHTML = '';\n",
              "          dataTable['output_type'] = 'display_data';\n",
              "          await google.colab.output.renderOutput(dataTable, element);\n",
              "          const docLink = document.createElement('div');\n",
              "          docLink.innerHTML = docLinkHtml;\n",
              "          element.appendChild(docLink);\n",
              "        }\n",
              "      </script>\n",
              "    </div>\n",
              "  </div>\n",
              "  "
            ]
          },
          "metadata": {}
        }
      ]
    },
    {
      "cell_type": "markdown",
      "source": [
        "De acordo com a tabela acima, baseando-se na métrica `f1`, as melhores soluções correspondem ao modelo `KNN` com os seguintes conjutos de hiperparâmetros: `{'metric': 'minkowski', 'n_neighbors': 13, 'weights': 'uniform'}` ou `{'metric': 'euclidean', 'n_neighbors': 13, 'weights': 'uniform'}`. Plotando a matriz de confusão:"
      ],
      "metadata": {
        "id": "lmKf8fI_nZH7"
      }
    },
    {
      "cell_type": "code",
      "source": [
        "#class_names=np.array(['0','1'])\n",
        "def plot_confusion_matrix(cf_matrix):            \n",
        "    group_names = ['Verdadeiro Negativo','Falso Positivo','Falso Negativo','Verdadeiro Positivo']\n",
        "    group_counts = [\"{0:0.0f}\".format(value) for value in cf_matrix.flatten()]\n",
        "    group_percentages = [\"{0:.2%}\".format(value) for value in cf_matrix.flatten()/np.sum(cf_matrix)]\n",
        "    labels = [f\"{v1}\\n{v2}\\n{v3}\" for v1, v2, v3 in zip(group_names,group_counts,group_percentages)]\n",
        "    labels = np.asarray(labels).reshape(2,2)\n",
        "    plt.figure(figsize=(8,6)); ax = sns.heatmap(cf_matrix, annot=labels, fmt='',annot_kws={\"fontsize\":13},cmap=\"Blues\")\n",
        "    ax.set_title('Matriz de Confusão'); ax.set_xlabel('\\nPredito', fontsize=14); ax.set_ylabel('Real', fontsize=14);\n",
        "    ## Ticket labels - List must be in alphabetical order\n",
        "    ax.xaxis.set_ticklabels(['Mal Pagador','Bom pagador'],fontsize=14)\n",
        "    ax.yaxis.set_ticklabels(['Mal Pagador','Bom pagador'],fontsize=14)\n",
        "    ## Display the visualization of the Confusion Matrix.\n",
        "    plt.show()"
      ],
      "metadata": {
        "id": "KSO9yFW0NLt-"
      },
      "execution_count": null,
      "outputs": []
    },
    {
      "cell_type": "code",
      "source": [
        " # Instanciando o KNN com os melhores parâmetros e fitando o modelo\n",
        "knn_model = KNeighborsClassifier(metric = 'minkowski', n_neighbors = 13, weights = 'uniform')\n",
        "knn_model.fit(X_features_data_prepared, y_target_data_prepared)\n",
        "# Testando o modelo\n",
        "y_pred = knn_model.predict(X_features_data_prepared)\n",
        "# Matriz Confusão\n",
        "cf_matrix = metrics.confusion_matrix(y_target_data_prepared, y_pred)\n",
        "display(plot_confusion_matrix(cf_matrix))"
      ],
      "metadata": {
        "colab": {
          "base_uri": "https://localhost:8080/",
          "height": 451
        },
        "id": "xhtbnetqMma1",
        "outputId": "578ac820-8869-42f2-a540-341b3de27cee"
      },
      "execution_count": null,
      "outputs": [
        {
          "output_type": "display_data",
          "data": {
            "text/plain": [
              "<Figure size 576x432 with 2 Axes>"
            ],
            "image/png": "[encoded data removed]"
          },
          "metadata": {
            "needs_background": "light"
          }
        },
        {
          "output_type": "display_data",
          "data": {
            "text/plain": [
              "None"
            ]
          },
          "metadata": {}
        }
      ]
    },
    {
      "cell_type": "markdown",
      "source": [
        "Logo podemos ver que o modelo KNN fez um ótimo trabalho ao prever a inadimplência observando os verdadeiros positivos na diagonal."
      ],
      "metadata": {
        "id": "Lj7j_DDe12pF"
      }
    },
    {
      "cell_type": "markdown",
      "source": [
        "## **Apêndice**\n",
        "\n",
        "De forma complementar segue uma discussão mais detalhada a respeito do método GridSearch. Nesse caso irei considerar apenas um modelo:"
      ],
      "metadata": {
        "id": "5Vtnyew1ojok"
      }
    },
    {
      "cell_type": "code",
      "source": [
        "# Criando um dicionário com as métricas que desejo calcular.\n",
        "meus_scores = {'accuracy' :make_scorer(accuracy_score),\n",
        "               'recall'   :make_scorer(recall_score),\n",
        "               'precision':make_scorer(precision_score),\n",
        "               'f1'       :make_scorer(fbeta_score, beta = 1)}\n",
        "\n",
        "# Criação dos objetos de GridSearchCV.\n",
        "knn_grid = GridSearchCV(estimator = classifiers['knn'],          \n",
        "                    param_grid = hyperparameters['knn'],  \n",
        "                    scoring = meus_scores,\n",
        "                    refit = 'f1', # Escolhi essa métrica para decidir qual são os melhores hiperparâmetros            \n",
        "                    cv = 10)\n",
        "\n",
        "# Fitando o modelo:\n",
        "knn_grid_model = knn_grid.fit(X_features_data_prepared, y_target_data_prepared)"
      ],
      "metadata": {
        "id": "HVGYvP9OrpjB"
      },
      "execution_count": null,
      "outputs": []
    },
    {
      "cell_type": "markdown",
      "source": [
        "Vamos analisar o atributo `.cv_results_` de qualquer um dos modelos para verificar se houve a adição das colunas com os valores das métricas desejadas."
      ],
      "metadata": {
        "id": "mQh4O2Km04J7"
      }
    },
    {
      "cell_type": "code",
      "source": [
        "# Fazendo uma subamostragem. \n",
        "pd.DataFrame(knn_grid_model.cv_results_).columns.tolist()"
      ],
      "metadata": {
        "colab": {
          "base_uri": "https://localhost:8080/"
        },
        "id": "Fo1JwyH9iuhA",
        "outputId": "bcf19a25-4f95-444c-fc36-0cad5ef36a25"
      },
      "execution_count": null,
      "outputs": [
        {
          "output_type": "execute_result",
          "data": {
            "text/plain": [
              "['mean_fit_time',\n",
              " 'std_fit_time',\n",
              " 'mean_score_time',\n",
              " 'std_score_time',\n",
              " 'param_metric',\n",
              " 'param_n_neighbors',\n",
              " 'param_weights',\n",
              " 'params',\n",
              " 'split0_test_accuracy',\n",
              " 'split1_test_accuracy',\n",
              " 'split2_test_accuracy',\n",
              " 'split3_test_accuracy',\n",
              " 'split4_test_accuracy',\n",
              " 'split5_test_accuracy',\n",
              " 'split6_test_accuracy',\n",
              " 'split7_test_accuracy',\n",
              " 'split8_test_accuracy',\n",
              " 'split9_test_accuracy',\n",
              " 'mean_test_accuracy',\n",
              " 'std_test_accuracy',\n",
              " 'rank_test_accuracy',\n",
              " 'split0_test_recall',\n",
              " 'split1_test_recall',\n",
              " 'split2_test_recall',\n",
              " 'split3_test_recall',\n",
              " 'split4_test_recall',\n",
              " 'split5_test_recall',\n",
              " 'split6_test_recall',\n",
              " 'split7_test_recall',\n",
              " 'split8_test_recall',\n",
              " 'split9_test_recall',\n",
              " 'mean_test_recall',\n",
              " 'std_test_recall',\n",
              " 'rank_test_recall',\n",
              " 'split0_test_precision',\n",
              " 'split1_test_precision',\n",
              " 'split2_test_precision',\n",
              " 'split3_test_precision',\n",
              " 'split4_test_precision',\n",
              " 'split5_test_precision',\n",
              " 'split6_test_precision',\n",
              " 'split7_test_precision',\n",
              " 'split8_test_precision',\n",
              " 'split9_test_precision',\n",
              " 'mean_test_precision',\n",
              " 'std_test_precision',\n",
              " 'rank_test_precision',\n",
              " 'split0_test_f1',\n",
              " 'split1_test_f1',\n",
              " 'split2_test_f1',\n",
              " 'split3_test_f1',\n",
              " 'split4_test_f1',\n",
              " 'split5_test_f1',\n",
              " 'split6_test_f1',\n",
              " 'split7_test_f1',\n",
              " 'split8_test_f1',\n",
              " 'split9_test_f1',\n",
              " 'mean_test_f1',\n",
              " 'std_test_f1',\n",
              " 'rank_test_f1']"
            ]
          },
          "metadata": {},
          "execution_count": 30
        }
      ]
    },
    {
      "cell_type": "markdown",
      "source": [
        "Conforme esperado, agora o objeto `grid` possui todas as métricas desejadas para uma análise detalhada. Observe que foram feitas 10 simulações para cada conjunto de parâmetros (que vc pode visualizar na coluna `params`). Ao passo que \"train\" e \"test\" referem-se à divisão do _dataset_ em treino e test, note que o `GridSearchCV` já faz isso automaticamente!! Logo, não há necessidade de dividir o _dataset_ usando o `train_test_split` antes de treinar o seu objeto `grid`, pois quando o parâmetro `cv` é configurado para um número inteiro (neste caso 10) é feito \"ocultamente\" um `StratifiedKFolds`, conforme pode ser confirmado na documentação do módulo `GridSearchCV`.\n",
        "\n",
        "\n"
      ],
      "metadata": {
        "id": "rXgSMjjNlhjS"
      }
    }
  ],
  "metadata": {
    "kernelspec": {
      "display_name": "Python 3",
      "language": "python",
      "name": "python3"
    },
    "language_info": {
      "codemirror_mode": {
        "name": "ipython",
        "version": 3
      },
      "file_extension": ".py",
      "mimetype": "text/x-python",
      "name": "python",
      "nbconvert_exporter": "python",
      "pygments_lexer": "ipython3",
      "version": "3.7.3"
    },
    "colab": {
      "provenance": [],
      "collapsed_sections": [
        "5Vtnyew1ojok"
      ],
      "include_colab_link": true
    }
  },
  "nbformat": 4,
  "nbformat_minor": 0
}