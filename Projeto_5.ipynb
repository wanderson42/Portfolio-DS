{
  "cells": [
    {
      "cell_type": "markdown",
      "metadata": {
        "id": "view-in-github",
        "colab_type": "text"
      },
      "source": [
        "<a href=\"https://colab.research.google.com/github/wanderson42/Portfolio-DS/blob/main/Projeto_5.ipynb\" target=\"_parent\"><img src=\"https://colab.research.google.com/assets/colab-badge.svg\" alt=\"Open In Colab\"/></a>"
      ]
    },
    {
      "cell_type": "markdown",
      "id": "packed-launch",
      "metadata": {
        "id": "packed-launch"
      },
      "source": [
        "# K-Nearest Neighbors\n",
        "***\n",
        "- Um dos algoritmos de aprendizado de máquina mais fáceis de implementar\n",
        "- Algoritmo de classificação que faz previsões com base em um número definido de vizinhos mais próximos\n",
        "    - Tem somente um único hiperparâmetro\n",
        "- Não requer nenhum \"aprendizado\" - apenas um simples cálculo de distância\n",
        "- Ideia básica: uma amostra é classificada por maioria de votos de seus vizinhos mais próximos\n",
        "- O algoritmo classifica uma instância (elemento do dataset de treino) com base na  similaridade entre K instâncias mais próximas entre si. Portando, o parâmetro de similaridade é a distância (daí que vem o nome KNN). \n",
        "- Dicas:\n",
        "    - Como é um algoritmo baseado em distância, então é uma boa ideia padronizar seus dados antes do treino\n",
        "\n",
        "\n",
        "## Background teórico\n",
        "\n",
        "- KNN se resume a uma única fórmula para distância\n",
        "- Você pode escolher entre várias métricas de distância, como cosseno ou distância euclidiana\n",
        "- Usarei a distância euclidiana\n",
        "- Aqui está a fórmula:\n",
        "\n",
        "$$ \\Large d(p, q) = \\sqrt{(p_1 - q_1)^2 + (p_2 - q_2)^2 + ... + (p_n - q_n)^2} $$\n",
        "\n",
        "- Ou de forma mais compacta:\n",
        "\n",
        "$$ \\Large d(p, q) = \\sqrt{\\sum_{i=1}^n (p_i - q_i)^2} $$\n",
        "\n",
        "- É uma distância em linha reta simples e fácil de implementar em Python"
      ]
    },
    {
      "cell_type": "markdown",
      "id": "marine-harmony",
      "metadata": {
        "id": "marine-harmony"
      },
      "source": [
        "<br><br>\n",
        "\n",
        "## Implementação\n",
        "- A classe `KNN` foi escrita tendo em mente a sintaxe da API Scikit-Learn\n",
        "- O valor de `k` é passado como parâmetro no método construtor (`__init__()`) ao lado de `X_train` e `y_train`, inicialmente definido como `None`\n",
        "- O `_euclidean_distance(p, q)` é um método privado que implementa a fórmula acima\n",
        "- O método `fit(X, y)` não faz basicamente nada - apenas armazena dados de treinamento para o construtor\n",
        "- O método `predict(X)` calcula as distâncias entre cada linha em `X` e cada linha em `X_train`. As distâncias são então ordenadas de forma crescente e apenas o k que correspondem às menores distâncias é mantido. A classificação é feita através da função scipy stats.mode()"
      ]
    },
    {
      "cell_type": "code",
      "execution_count": 36,
      "id": "noticed-vector",
      "metadata": {
        "id": "noticed-vector"
      },
      "outputs": [],
      "source": [
        "from scipy import stats\n",
        "\n",
        "class TuringKNN:\n",
        "    '''\n",
        "    Uma classe escrita ao estilo \"from scratch\" que implementa\n",
        "    o algoritmo k-Nearest Neighbors.    \n",
        "    '''\n",
        "    def __init__(self, k):\n",
        "        self.k = k\n",
        "        self.X_train = None\n",
        "        self.y_train = None\n",
        "        \n",
        "    @staticmethod\n",
        "    def _euclidean_distance(p, q):\n",
        "        '''\n",
        "        Método privado para calcular a distância euclidiana entre dois vetores.\n",
        "        \n",
        "        :param p: np.array, 1º vetor\n",
        "        :param q: np.array, 2º vetor\n",
        "        :return: float, distância\n",
        "        '''\n",
        "        return np.sqrt(np.sum((p - q) ** 2))\n",
        "        \n",
        "    def fit(self, X, y):\n",
        "        '''\n",
        "        Nenhum treinamento é necessário para KNN, então 'fit(X, y)' salva ambos os parâmetros\n",
        "        no método construtor.\n",
        "        \n",
        "        :param X: pd.DataFrame, features\n",
        "        :param y: pd.Series, target\n",
        "        :return: None\n",
        "        '''\n",
        "        self.X_train = X\n",
        "        self.y_train = y\n",
        "        \n",
        "    def predict(self, X):\n",
        "        '''\n",
        "        Efetua as predictions baseado nos vizinhos mais próximos.\n",
        "        \n",
        "        :param X: pd.DataFrame, features\n",
        "        :return: np.array, predictions\n",
        "        '''\n",
        "        predictions = []\n",
        "        for p in X:\n",
        "            euc_distances = [self._euclidean_distance(p, q) for q in self.X_train]\n",
        "            sorted_k = np.argsort(euc_distances)[:self.k]\n",
        "            k_nearest = [self.y_train[y] for y in sorted_k]\n",
        "            predictions.append(stats.mode(k_nearest)[0][0])\n",
        "            \n",
        "        return np.array(predictions)"
      ]
    },
    {
      "cell_type": "markdown",
      "id": "celtic-emission",
      "metadata": {
        "id": "celtic-emission"
      },
      "source": [
        "<br>\n",
        "\n",
        "## Teste\n",
        "- Eu utilizei o *breast cancer* dataset do Scikit-Learn:"
      ]
    },
    {
      "cell_type": "code",
      "execution_count": 37,
      "id": "drawn-basketball",
      "metadata": {
        "id": "drawn-basketball"
      },
      "outputs": [],
      "source": [
        "from sklearn.datasets import load_breast_cancer\n",
        "\n",
        "data = load_breast_cancer()\n",
        "X = data.data\n",
        "y = data.target "
      ]
    },
    {
      "cell_type": "markdown",
      "id": "scientific-still",
      "metadata": {
        "id": "scientific-still"
      },
      "source": [
        "- O código abaixo aplica a divisão de treinamento/teste ao dataset:"
      ]
    },
    {
      "cell_type": "code",
      "execution_count": 38,
      "id": "warming-peoples",
      "metadata": {
        "id": "warming-peoples"
      },
      "outputs": [],
      "source": [
        "from sklearn.model_selection import train_test_split\n",
        "\n",
        "X_train, X_test, y_train, y_test = train_test_split(X, y, test_size=0.2, random_state=42)"
      ]
    },
    {
      "cell_type": "markdown",
      "id": "infectious-paraguay",
      "metadata": {
        "id": "infectious-paraguay"
      },
      "source": [
        "- Agora pode-se inicializar e \"treinar\" o modelo e depois fazer as previsões:"
      ]
    },
    {
      "cell_type": "code",
      "execution_count": 39,
      "id": "biblical-inflation",
      "metadata": {
        "id": "biblical-inflation"
      },
      "outputs": [],
      "source": [
        "model = TuringKNN(3)\n",
        "model.fit(X_train, y_train)\n",
        "preds = model.predict(X_test)"
      ]
    },
    {
      "cell_type": "code",
      "execution_count": 40,
      "id": "framed-allen",
      "metadata": {
        "colab": {
          "base_uri": "https://localhost:8080/"
        },
        "id": "framed-allen",
        "outputId": "d2ff1937-88d4-4eb0-a27a-fa78964ed08f"
      },
      "outputs": [
        {
          "output_type": "execute_result",
          "data": {
            "text/plain": [
              "array([0, 0, 0, 1, 1, 0, 0, 0, 1, 1, 1, 0, 1, 1, 1, 0, 1, 1, 1, 0, 0, 1,\n",
              "       0, 1, 1, 1, 1, 1, 1, 0, 1, 1, 1, 0, 1, 1, 0, 1, 0, 1, 1, 0, 1, 1,\n",
              "       1, 1, 1, 1, 1, 1, 0, 0, 1, 1, 1, 1, 1, 0, 1, 1, 1, 0, 0, 1, 1, 1,\n",
              "       0, 0, 1, 1, 0, 0, 1, 1, 1, 1, 1, 1, 1, 1, 0, 1, 1, 0, 0, 0, 0, 0,\n",
              "       1, 1, 1, 1, 1, 1, 1, 1, 0, 0, 1, 0, 0, 1, 0, 0, 0, 1, 1, 0, 1, 1,\n",
              "       0, 1, 1, 0])"
            ]
          },
          "metadata": {},
          "execution_count": 40
        }
      ],
      "source": [
        "preds"
      ]
    },
    {
      "cell_type": "code",
      "execution_count": 41,
      "id": "published-canadian",
      "metadata": {
        "colab": {
          "base_uri": "https://localhost:8080/"
        },
        "id": "published-canadian",
        "outputId": "461cf576-816f-4790-e3aa-eadae39f73ce"
      },
      "outputs": [
        {
          "output_type": "execute_result",
          "data": {
            "text/plain": [
              "array([1, 0, 0, 1, 1, 0, 0, 0, 1, 1, 1, 0, 1, 0, 1, 0, 1, 1, 1, 0, 0, 1,\n",
              "       0, 1, 1, 1, 1, 1, 1, 0, 1, 1, 1, 1, 1, 1, 0, 1, 0, 1, 1, 0, 1, 1,\n",
              "       1, 1, 1, 1, 1, 1, 0, 0, 1, 1, 1, 1, 1, 0, 0, 1, 1, 0, 0, 1, 1, 1,\n",
              "       0, 0, 1, 1, 0, 0, 1, 0, 1, 1, 1, 0, 1, 1, 0, 1, 0, 0, 0, 0, 0, 0,\n",
              "       1, 1, 1, 1, 1, 1, 1, 1, 0, 0, 1, 0, 0, 1, 0, 0, 1, 1, 1, 0, 1, 1,\n",
              "       0, 1, 1, 0])"
            ]
          },
          "metadata": {},
          "execution_count": 41
        }
      ],
      "source": [
        "y_test"
      ]
    },
    {
      "cell_type": "markdown",
      "id": "broken-scout",
      "metadata": {
        "id": "broken-scout"
      },
      "source": [
        "- Como podemos ver, os arrays são bastante semelhantes, mas têm algumas diferenças\n",
        "- Vamos calcular a precisão para avaliar o modelo:"
      ]
    },
    {
      "cell_type": "code",
      "execution_count": 42,
      "id": "clinical-plastic",
      "metadata": {
        "colab": {
          "base_uri": "https://localhost:8080/"
        },
        "id": "clinical-plastic",
        "outputId": "b30dc4d0-3e56-46cc-9227-4c8c88bd50fd"
      },
      "outputs": [
        {
          "output_type": "execute_result",
          "data": {
            "text/plain": [
              "0.9298245614035088"
            ]
          },
          "metadata": {},
          "execution_count": 42
        }
      ],
      "source": [
        "from sklearn.metrics import accuracy_score\n",
        "\n",
        "accuracy_score(y_test, preds)"
      ]
    },
    {
      "cell_type": "markdown",
      "id": "copyrighted-azerbaijan",
      "metadata": {
        "id": "copyrighted-azerbaijan"
      },
      "source": [
        "- Conforme a acurácia de $≈93 \\%$ , o algoritmo KNN \"from scratch\" teve uma excelente performance  \n",
        "- Vamos ajustá-lo encontrando o valor K ideal\n",
        "\n",
        "<br>\n",
        "\n",
        "## Otimização de K e Comparação com Scikit-Learn\n",
        "- Queremos saber se o modelo TuringKNN é realmente bom, então vamos compará-lo com o modelo `KNeighborsClassifier` do Scikit-Learn\n",
        "- O valor K de 3 talvez não seja a melhor escolha\n",
        "- Vamos treinar e avaliar ambos os modelos para cada número ímpar de 1 a 15\n",
        "- Os resultados são armazenados nos Dataframe's `evals_turing` e `evals_sklearn`:"
      ]
    },
    {
      "cell_type": "code",
      "execution_count": 43,
      "id": "sunrise-whole",
      "metadata": {
        "id": "sunrise-whole"
      },
      "outputs": [],
      "source": [
        "import numpy as np\n",
        "import pandas as pd\n",
        "from sklearn.neighbors import KNeighborsClassifier\n",
        "\n",
        "evals_turing  = []\n",
        "evals_sklearn = []\n",
        "\n",
        "for k in range(1, 16, 2):\n",
        "    '''  \n",
        "    Otimização de K via algoritmo TuringKnn\n",
        "    '''\n",
        "    model = TuringKNN(k=k)\n",
        "    model.fit(X_train, y_train)\n",
        "    preds = model.predict(X_test)\n",
        "    accuracy = accuracy_score(y_test, preds)\n",
        "    evals_turing.append({'k': k, 'accuracy': accuracy})\n",
        "    '''\n",
        "    Otimização de K via algoritmo KNeighborsClassifier do Sklearn\n",
        "    '''\n",
        "    knn_model = KNeighborsClassifier(k)\n",
        "    knn_model.fit(X_train, y_train)\n",
        "    knn_preds = knn_model.predict(X_test)\n",
        "    accuracy = accuracy_score(y_test, knn_preds)\n",
        "    evals_sklearn.append({'k': k, 'accuracy': accuracy})\n",
        "\n",
        "evals_turing = pd.DataFrame(evals_turing)\n",
        "evals_sklearn = pd.DataFrame(evals_sklearn)"
      ]
    },
    {
      "cell_type": "markdown",
      "id": "three-momentum",
      "metadata": {
        "id": "three-momentum"
      },
      "source": [
        "- Vamos inspecionar visualmente o melhor valor de K em ambos os modelos:"
      ]
    },
    {
      "cell_type": "code",
      "source": [
        "from plotly.subplots import make_subplots\n",
        "import plotly.graph_objects as go\n",
        "\n",
        "fig = make_subplots(rows=1, cols=2)\n",
        "\n",
        "fig.add_scatter(x = evals_turing['k'], y = evals_turing['accuracy'],\n",
        "                name=\"TuringKNN\", row=1, col=1)\n",
        "\n",
        "fig.add_scatter(x = evals_sklearn['k'], y = evals_sklearn['accuracy'],\n",
        "                name=\"SklearnKNN\", row=1, col=2)\n",
        "\n",
        "# Update xaxis properties\n",
        "fig.update_xaxes(title_text=\"K\", row=1, col=1, range=[0, 16])\n",
        "fig.update_xaxes(title_text=\"K\", row=1, col=2, range=[0, 16])\n",
        "\n",
        "# Update yaxis properties\n",
        "fig.update_yaxes(title_text=\"Acurácia\", row=1, col=1)\n",
        "fig.update_yaxes(title_text=\"Acurácia\", row=1, col=2)\n",
        "\n",
        "fig.show()"
      ],
      "metadata": {
        "colab": {
          "base_uri": "https://localhost:8080/",
          "height": 542
        },
        "id": "IfMF2duEfRLw",
        "outputId": "54bd155b-4560-4361-ae08-917db04f2e5d"
      },
      "id": "IfMF2duEfRLw",
      "execution_count": 44,
      "outputs": [
        {
          "output_type": "display_data",
          "data": {
            "text/html": [
              "<html>\n",
              "<head><meta charset=\"utf-8\" /></head>\n",
              "<body>\n",
              "    <div>            <script src=\"https://cdnjs.cloudflare.com/ajax/libs/mathjax/2.7.5/MathJax.js?config=TeX-AMS-MML_SVG\"></script><script type=\"text/javascript\">if (window.MathJax) {MathJax.Hub.Config({SVG: {font: \"STIX-Web\"}});}</script>                <script type=\"text/javascript\">window.PlotlyConfig = {MathJaxConfig: 'local'};</script>\n",
              "        <script src=\"https://cdn.plot.ly/plotly-2.8.3.min.js\"></script>                <div id=\"7f3d8638-a7b8-4af1-b3bd-a58a0baf8887\" class=\"plotly-graph-div\" style=\"height:525px; width:100%;\"></div>            <script type=\"text/javascript\">                                    window.PLOTLYENV=window.PLOTLYENV || {};                                    if (document.getElementById(\"7f3d8638-a7b8-4af1-b3bd-a58a0baf8887\")) {                    Plotly.newPlot(                        \"7f3d8638-a7b8-4af1-b3bd-a58a0baf8887\",                        [{\"name\":\"TuringKNN\",\"x\":[1,3,5,7,9,11,13,15],\"y\":[0.9298245614035088,0.9298245614035088,0.956140350877193,0.956140350877193,0.956140350877193,0.9824561403508771,0.9736842105263158,0.9649122807017544],\"type\":\"scatter\",\"xaxis\":\"x\",\"yaxis\":\"y\"},{\"name\":\"SklearnKNN\",\"x\":[1,3,5,7,9,11,13,15],\"y\":[0.9298245614035088,0.9298245614035088,0.956140350877193,0.956140350877193,0.956140350877193,0.9824561403508771,0.9736842105263158,0.9649122807017544],\"type\":\"scatter\",\"xaxis\":\"x2\",\"yaxis\":\"y2\"}],                        {\"template\":{\"data\":{\"bar\":[{\"error_x\":{\"color\":\"#2a3f5f\"},\"error_y\":{\"color\":\"#2a3f5f\"},\"marker\":{\"line\":{\"color\":\"#E5ECF6\",\"width\":0.5},\"pattern\":{\"fillmode\":\"overlay\",\"size\":10,\"solidity\":0.2}},\"type\":\"bar\"}],\"barpolar\":[{\"marker\":{\"line\":{\"color\":\"#E5ECF6\",\"width\":0.5},\"pattern\":{\"fillmode\":\"overlay\",\"size\":10,\"solidity\":0.2}},\"type\":\"barpolar\"}],\"carpet\":[{\"aaxis\":{\"endlinecolor\":\"#2a3f5f\",\"gridcolor\":\"white\",\"linecolor\":\"white\",\"minorgridcolor\":\"white\",\"startlinecolor\":\"#2a3f5f\"},\"baxis\":{\"endlinecolor\":\"#2a3f5f\",\"gridcolor\":\"white\",\"linecolor\":\"white\",\"minorgridcolor\":\"white\",\"startlinecolor\":\"#2a3f5f\"},\"type\":\"carpet\"}],\"choropleth\":[{\"colorbar\":{\"outlinewidth\":0,\"ticks\":\"\"},\"type\":\"choropleth\"}],\"contour\":[{\"colorbar\":{\"outlinewidth\":0,\"ticks\":\"\"},\"colorscale\":[[0.0,\"#0d0887\"],[0.1111111111111111,\"#46039f\"],[0.2222222222222222,\"#7201a8\"],[0.3333333333333333,\"#9c179e\"],[0.4444444444444444,\"#bd3786\"],[0.5555555555555556,\"#d8576b\"],[0.6666666666666666,\"#ed7953\"],[0.7777777777777778,\"#fb9f3a\"],[0.8888888888888888,\"#fdca26\"],[1.0,\"#f0f921\"]],\"type\":\"contour\"}],\"contourcarpet\":[{\"colorbar\":{\"outlinewidth\":0,\"ticks\":\"\"},\"type\":\"contourcarpet\"}],\"heatmap\":[{\"colorbar\":{\"outlinewidth\":0,\"ticks\":\"\"},\"colorscale\":[[0.0,\"#0d0887\"],[0.1111111111111111,\"#46039f\"],[0.2222222222222222,\"#7201a8\"],[0.3333333333333333,\"#9c179e\"],[0.4444444444444444,\"#bd3786\"],[0.5555555555555556,\"#d8576b\"],[0.6666666666666666,\"#ed7953\"],[0.7777777777777778,\"#fb9f3a\"],[0.8888888888888888,\"#fdca26\"],[1.0,\"#f0f921\"]],\"type\":\"heatmap\"}],\"heatmapgl\":[{\"colorbar\":{\"outlinewidth\":0,\"ticks\":\"\"},\"colorscale\":[[0.0,\"#0d0887\"],[0.1111111111111111,\"#46039f\"],[0.2222222222222222,\"#7201a8\"],[0.3333333333333333,\"#9c179e\"],[0.4444444444444444,\"#bd3786\"],[0.5555555555555556,\"#d8576b\"],[0.6666666666666666,\"#ed7953\"],[0.7777777777777778,\"#fb9f3a\"],[0.8888888888888888,\"#fdca26\"],[1.0,\"#f0f921\"]],\"type\":\"heatmapgl\"}],\"histogram\":[{\"marker\":{\"pattern\":{\"fillmode\":\"overlay\",\"size\":10,\"solidity\":0.2}},\"type\":\"histogram\"}],\"histogram2d\":[{\"colorbar\":{\"outlinewidth\":0,\"ticks\":\"\"},\"colorscale\":[[0.0,\"#0d0887\"],[0.1111111111111111,\"#46039f\"],[0.2222222222222222,\"#7201a8\"],[0.3333333333333333,\"#9c179e\"],[0.4444444444444444,\"#bd3786\"],[0.5555555555555556,\"#d8576b\"],[0.6666666666666666,\"#ed7953\"],[0.7777777777777778,\"#fb9f3a\"],[0.8888888888888888,\"#fdca26\"],[1.0,\"#f0f921\"]],\"type\":\"histogram2d\"}],\"histogram2dcontour\":[{\"colorbar\":{\"outlinewidth\":0,\"ticks\":\"\"},\"colorscale\":[[0.0,\"#0d0887\"],[0.1111111111111111,\"#46039f\"],[0.2222222222222222,\"#7201a8\"],[0.3333333333333333,\"#9c179e\"],[0.4444444444444444,\"#bd3786\"],[0.5555555555555556,\"#d8576b\"],[0.6666666666666666,\"#ed7953\"],[0.7777777777777778,\"#fb9f3a\"],[0.8888888888888888,\"#fdca26\"],[1.0,\"#f0f921\"]],\"type\":\"histogram2dcontour\"}],\"mesh3d\":[{\"colorbar\":{\"outlinewidth\":0,\"ticks\":\"\"},\"type\":\"mesh3d\"}],\"parcoords\":[{\"line\":{\"colorbar\":{\"outlinewidth\":0,\"ticks\":\"\"}},\"type\":\"parcoords\"}],\"pie\":[{\"automargin\":true,\"type\":\"pie\"}],\"scatter\":[{\"marker\":{\"colorbar\":{\"outlinewidth\":0,\"ticks\":\"\"}},\"type\":\"scatter\"}],\"scatter3d\":[{\"line\":{\"colorbar\":{\"outlinewidth\":0,\"ticks\":\"\"}},\"marker\":{\"colorbar\":{\"outlinewidth\":0,\"ticks\":\"\"}},\"type\":\"scatter3d\"}],\"scattercarpet\":[{\"marker\":{\"colorbar\":{\"outlinewidth\":0,\"ticks\":\"\"}},\"type\":\"scattercarpet\"}],\"scattergeo\":[{\"marker\":{\"colorbar\":{\"outlinewidth\":0,\"ticks\":\"\"}},\"type\":\"scattergeo\"}],\"scattergl\":[{\"marker\":{\"colorbar\":{\"outlinewidth\":0,\"ticks\":\"\"}},\"type\":\"scattergl\"}],\"scattermapbox\":[{\"marker\":{\"colorbar\":{\"outlinewidth\":0,\"ticks\":\"\"}},\"type\":\"scattermapbox\"}],\"scatterpolar\":[{\"marker\":{\"colorbar\":{\"outlinewidth\":0,\"ticks\":\"\"}},\"type\":\"scatterpolar\"}],\"scatterpolargl\":[{\"marker\":{\"colorbar\":{\"outlinewidth\":0,\"ticks\":\"\"}},\"type\":\"scatterpolargl\"}],\"scatterternary\":[{\"marker\":{\"colorbar\":{\"outlinewidth\":0,\"ticks\":\"\"}},\"type\":\"scatterternary\"}],\"surface\":[{\"colorbar\":{\"outlinewidth\":0,\"ticks\":\"\"},\"colorscale\":[[0.0,\"#0d0887\"],[0.1111111111111111,\"#46039f\"],[0.2222222222222222,\"#7201a8\"],[0.3333333333333333,\"#9c179e\"],[0.4444444444444444,\"#bd3786\"],[0.5555555555555556,\"#d8576b\"],[0.6666666666666666,\"#ed7953\"],[0.7777777777777778,\"#fb9f3a\"],[0.8888888888888888,\"#fdca26\"],[1.0,\"#f0f921\"]],\"type\":\"surface\"}],\"table\":[{\"cells\":{\"fill\":{\"color\":\"#EBF0F8\"},\"line\":{\"color\":\"white\"}},\"header\":{\"fill\":{\"color\":\"#C8D4E3\"},\"line\":{\"color\":\"white\"}},\"type\":\"table\"}]},\"layout\":{\"annotationdefaults\":{\"arrowcolor\":\"#2a3f5f\",\"arrowhead\":0,\"arrowwidth\":1},\"autotypenumbers\":\"strict\",\"coloraxis\":{\"colorbar\":{\"outlinewidth\":0,\"ticks\":\"\"}},\"colorscale\":{\"diverging\":[[0,\"#8e0152\"],[0.1,\"#c51b7d\"],[0.2,\"#de77ae\"],[0.3,\"#f1b6da\"],[0.4,\"#fde0ef\"],[0.5,\"#f7f7f7\"],[0.6,\"#e6f5d0\"],[0.7,\"#b8e186\"],[0.8,\"#7fbc41\"],[0.9,\"#4d9221\"],[1,\"#276419\"]],\"sequential\":[[0.0,\"#0d0887\"],[0.1111111111111111,\"#46039f\"],[0.2222222222222222,\"#7201a8\"],[0.3333333333333333,\"#9c179e\"],[0.4444444444444444,\"#bd3786\"],[0.5555555555555556,\"#d8576b\"],[0.6666666666666666,\"#ed7953\"],[0.7777777777777778,\"#fb9f3a\"],[0.8888888888888888,\"#fdca26\"],[1.0,\"#f0f921\"]],\"sequentialminus\":[[0.0,\"#0d0887\"],[0.1111111111111111,\"#46039f\"],[0.2222222222222222,\"#7201a8\"],[0.3333333333333333,\"#9c179e\"],[0.4444444444444444,\"#bd3786\"],[0.5555555555555556,\"#d8576b\"],[0.6666666666666666,\"#ed7953\"],[0.7777777777777778,\"#fb9f3a\"],[0.8888888888888888,\"#fdca26\"],[1.0,\"#f0f921\"]]},\"colorway\":[\"#636efa\",\"#EF553B\",\"#00cc96\",\"#ab63fa\",\"#FFA15A\",\"#19d3f3\",\"#FF6692\",\"#B6E880\",\"#FF97FF\",\"#FECB52\"],\"font\":{\"color\":\"#2a3f5f\"},\"geo\":{\"bgcolor\":\"white\",\"lakecolor\":\"white\",\"landcolor\":\"#E5ECF6\",\"showlakes\":true,\"showland\":true,\"subunitcolor\":\"white\"},\"hoverlabel\":{\"align\":\"left\"},\"hovermode\":\"closest\",\"mapbox\":{\"style\":\"light\"},\"paper_bgcolor\":\"white\",\"plot_bgcolor\":\"#E5ECF6\",\"polar\":{\"angularaxis\":{\"gridcolor\":\"white\",\"linecolor\":\"white\",\"ticks\":\"\"},\"bgcolor\":\"#E5ECF6\",\"radialaxis\":{\"gridcolor\":\"white\",\"linecolor\":\"white\",\"ticks\":\"\"}},\"scene\":{\"xaxis\":{\"backgroundcolor\":\"#E5ECF6\",\"gridcolor\":\"white\",\"gridwidth\":2,\"linecolor\":\"white\",\"showbackground\":true,\"ticks\":\"\",\"zerolinecolor\":\"white\"},\"yaxis\":{\"backgroundcolor\":\"#E5ECF6\",\"gridcolor\":\"white\",\"gridwidth\":2,\"linecolor\":\"white\",\"showbackground\":true,\"ticks\":\"\",\"zerolinecolor\":\"white\"},\"zaxis\":{\"backgroundcolor\":\"#E5ECF6\",\"gridcolor\":\"white\",\"gridwidth\":2,\"linecolor\":\"white\",\"showbackground\":true,\"ticks\":\"\",\"zerolinecolor\":\"white\"}},\"shapedefaults\":{\"line\":{\"color\":\"#2a3f5f\"}},\"ternary\":{\"aaxis\":{\"gridcolor\":\"white\",\"linecolor\":\"white\",\"ticks\":\"\"},\"baxis\":{\"gridcolor\":\"white\",\"linecolor\":\"white\",\"ticks\":\"\"},\"bgcolor\":\"#E5ECF6\",\"caxis\":{\"gridcolor\":\"white\",\"linecolor\":\"white\",\"ticks\":\"\"}},\"title\":{\"x\":0.05},\"xaxis\":{\"automargin\":true,\"gridcolor\":\"white\",\"linecolor\":\"white\",\"ticks\":\"\",\"title\":{\"standoff\":15},\"zerolinecolor\":\"white\",\"zerolinewidth\":2},\"yaxis\":{\"automargin\":true,\"gridcolor\":\"white\",\"linecolor\":\"white\",\"ticks\":\"\",\"title\":{\"standoff\":15},\"zerolinecolor\":\"white\",\"zerolinewidth\":2}}},\"xaxis\":{\"anchor\":\"y\",\"domain\":[0.0,0.45],\"title\":{\"text\":\"K\"},\"range\":[0,16]},\"yaxis\":{\"anchor\":\"x\",\"domain\":[0.0,1.0],\"title\":{\"text\":\"Acur\\u00e1cia\"}},\"xaxis2\":{\"anchor\":\"y2\",\"domain\":[0.55,1.0],\"title\":{\"text\":\"K\"},\"range\":[0,16]},\"yaxis2\":{\"anchor\":\"x2\",\"domain\":[0.0,1.0],\"title\":{\"text\":\"Acur\\u00e1cia\"}}},                        {\"responsive\": true}                    ).then(function(){\n",
              "                            \n",
              "var gd = document.getElementById('7f3d8638-a7b8-4af1-b3bd-a58a0baf8887');\n",
              "var x = new MutationObserver(function (mutations, observer) {{\n",
              "        var display = window.getComputedStyle(gd).display;\n",
              "        if (!display || display === 'none') {{\n",
              "            console.log([gd, 'removed!']);\n",
              "            Plotly.purge(gd);\n",
              "            observer.disconnect();\n",
              "        }}\n",
              "}});\n",
              "\n",
              "// Listen for the removal of the full notebook cells\n",
              "var notebookContainer = gd.closest('#notebook-container');\n",
              "if (notebookContainer) {{\n",
              "    x.observe(notebookContainer, {childList: true});\n",
              "}}\n",
              "\n",
              "// Listen for the clearing of the current output cell\n",
              "var outputEl = gd.closest('.output');\n",
              "if (outputEl) {{\n",
              "    x.observe(outputEl, {childList: true});\n",
              "}}\n",
              "\n",
              "                        })                };                            </script>        </div>\n",
              "</body>\n",
              "</html>"
            ]
          },
          "metadata": {}
        }
      ]
    },
    {
      "cell_type": "markdown",
      "id": "federal-screw",
      "metadata": {
        "id": "federal-screw"
      },
      "source": [
        "- Com o dataset *breast cancer* o valor K = 11 corresponde aos melhores resultados, obtendo-se uma acurácia superior de $≈98 \\%$\n",
        "\n"
      ]
    }
  ],
  "metadata": {
    "kernelspec": {
      "display_name": "Python 3",
      "language": "python",
      "name": "python3"
    },
    "language_info": {
      "codemirror_mode": {
        "name": "ipython",
        "version": 3
      },
      "file_extension": ".py",
      "mimetype": "text/x-python",
      "name": "python",
      "nbconvert_exporter": "python",
      "pygments_lexer": "ipython3",
      "version": "3.8.8"
    },
    "colab": {
      "provenance": [],
      "include_colab_link": true
    }
  },
  "nbformat": 4,
  "nbformat_minor": 5
}